{
 "cells": [
  {
   "attachments": {},
   "cell_type": "markdown",
   "metadata": {},
   "source": [
    "Dans cet notebook, nous abordons les statistiques descriptives sur les incidents de sécurité sur le réseau de la SCNF"
   ]
  }
 ],
 "metadata": {
  "kernelspec": {
   "display_name": "base",
   "language": "python",
   "name": "python3"
  },
  "language_info": {
   "name": "python",
   "version": "3.7.1 (default, Dec 10 2018, 22:54:23) [MSC v.1915 64 bit (AMD64)]"
  },
  "orig_nbformat": 4,
  "vscode": {
   "interpreter": {
    "hash": "df2a5607885de177a2450ef64f99b16b2c0a71548f6d80785d648eb2b91afa4b"
   }
  }
 },
 "nbformat": 4,
 "nbformat_minor": 2
}
