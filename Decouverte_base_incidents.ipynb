{
 "cells": [
  {
   "attachments": {},
   "cell_type": "markdown",
   "metadata": {},
   "source": [
    "# Découverte de la base de donnée sur les incidents\n",
    "## Chargement de la base et visualisation de quelques lignes"
   ]
  },
  {
   "cell_type": "code",
   "execution_count": 37,
   "metadata": {},
   "outputs": [
    {
     "data": {
      "text/html": [
       "<div>\n",
       "<style scoped>\n",
       "    .dataframe tbody tr th:only-of-type {\n",
       "        vertical-align: middle;\n",
       "    }\n",
       "\n",
       "    .dataframe tbody tr th {\n",
       "        vertical-align: top;\n",
       "    }\n",
       "\n",
       "    .dataframe thead th {\n",
       "        text-align: right;\n",
       "    }\n",
       "</style>\n",
       "<table border=\"1\" class=\"dataframe\">\n",
       "  <thead>\n",
       "    <tr style=\"text-align: right;\">\n",
       "      <th></th>\n",
       "      <th>id</th>\n",
       "      <th>origine</th>\n",
       "      <th>numero_isic</th>\n",
       "      <th>type_event</th>\n",
       "      <th>date</th>\n",
       "      <th>nature</th>\n",
       "      <th>region</th>\n",
       "      <th>lieu</th>\n",
       "      <th>niveau_gravite</th>\n",
       "    </tr>\n",
       "  </thead>\n",
       "  <tbody>\n",
       "    <tr>\n",
       "      <th>0</th>\n",
       "      <td>18212</td>\n",
       "      <td>Mobilités</td>\n",
       "      <td>0</td>\n",
       "      <td>Dépassement de la vitesse limite de plus de 40...</td>\n",
       "      <td>2015-01-12</td>\n",
       "      <td>Dépassement de vitesse supérieur à 40 km/h</td>\n",
       "      <td>RA</td>\n",
       "      <td>Montbrison (42)</td>\n",
       "      <td>NaN</td>\n",
       "    </tr>\n",
       "    <tr>\n",
       "      <th>1</th>\n",
       "      <td>18152</td>\n",
       "      <td>Réseau</td>\n",
       "      <td>None</td>\n",
       "      <td>RFC</td>\n",
       "      <td>2015-01-14</td>\n",
       "      <td>Un TGV franchi le PN 25 barrières hautes, la s...</td>\n",
       "      <td>None</td>\n",
       "      <td>Lunel (34)</td>\n",
       "      <td>NaN</td>\n",
       "    </tr>\n",
       "    <tr>\n",
       "      <th>2</th>\n",
       "      <td>18196</td>\n",
       "      <td>Réseau</td>\n",
       "      <td>None</td>\n",
       "      <td>Défaillance voie</td>\n",
       "      <td>2015-01-19</td>\n",
       "      <td>Défaut de géométrie nécessitant l'arrêt des ci...</td>\n",
       "      <td>LR</td>\n",
       "      <td>Entre Sète et Le Castellas</td>\n",
       "      <td>NaN</td>\n",
       "    </tr>\n",
       "    <tr>\n",
       "      <th>3</th>\n",
       "      <td>18203</td>\n",
       "      <td>Mobilités</td>\n",
       "      <td>17347</td>\n",
       "      <td>Franchissement intempestif d'un signal d'arrêt...</td>\n",
       "      <td>2015-01-20</td>\n",
       "      <td>Le signal C348 est franchit fermé par le train...</td>\n",
       "      <td>CEN</td>\n",
       "      <td>Orléans</td>\n",
       "      <td>NaN</td>\n",
       "    </tr>\n",
       "    <tr>\n",
       "      <th>4</th>\n",
       "      <td>18379</td>\n",
       "      <td>Réseau</td>\n",
       "      <td>17477</td>\n",
       "      <td>Engagement intempestif d'un train sur une voie...</td>\n",
       "      <td>2015-02-04</td>\n",
       "      <td>Engagement intempestif d'une circulation sur u...</td>\n",
       "      <td>RA</td>\n",
       "      <td>Lyon Perrache (69)</td>\n",
       "      <td>NaN</td>\n",
       "    </tr>\n",
       "  </tbody>\n",
       "</table>\n",
       "</div>"
      ],
      "text/plain": [
       "      id    origine numero_isic  \\\n",
       "0  18212  Mobilités           0   \n",
       "1  18152     Réseau        None   \n",
       "2  18196     Réseau        None   \n",
       "3  18203  Mobilités       17347   \n",
       "4  18379     Réseau       17477   \n",
       "\n",
       "                                          type_event       date  \\\n",
       "0  Dépassement de la vitesse limite de plus de 40... 2015-01-12   \n",
       "1                                                RFC 2015-01-14   \n",
       "2                                   Défaillance voie 2015-01-19   \n",
       "3  Franchissement intempestif d'un signal d'arrêt... 2015-01-20   \n",
       "4  Engagement intempestif d'un train sur une voie... 2015-02-04   \n",
       "\n",
       "                                              nature region  \\\n",
       "0         Dépassement de vitesse supérieur à 40 km/h     RA   \n",
       "1  Un TGV franchi le PN 25 barrières hautes, la s...   None   \n",
       "2  Défaut de géométrie nécessitant l'arrêt des ci...     LR   \n",
       "3  Le signal C348 est franchit fermé par le train...    CEN   \n",
       "4  Engagement intempestif d'une circulation sur u...     RA   \n",
       "\n",
       "                         lieu  niveau_gravite  \n",
       "0             Montbrison (42)             NaN  \n",
       "1                  Lunel (34)             NaN  \n",
       "2  Entre Sète et Le Castellas             NaN  \n",
       "3                     Orléans             NaN  \n",
       "4          Lyon Perrache (69)             NaN  "
      ]
     },
     "execution_count": 37,
     "metadata": {},
     "output_type": "execute_result"
    }
   ],
   "source": [
    "##################################################################################\n",
    "import ssl\n",
    "try:\n",
    "    _create_unverified_https_context = ssl._create_unverified_context\n",
    "except AttributeError:\n",
    "    # Legacy Python that doesn't verify HTTPS certificates by default\n",
    "    pass\n",
    "else:\n",
    "    # Handle target environment that doesn't support HTTPS verification\n",
    "    ssl._create_default_https_context = _create_unverified_https_context\n",
    "##################################################################################\n",
    "import numpy as np\n",
    "import pandas as pd\n",
    "url_api=\"https://ressources.data.sncf.com/api/v2/catalog/datasets/incidents-securite/exports/json?limit=-1&offset=0&lang=fr&timezone=Europe%2FParis\"\n",
    "incident= pd.read_json(url_api)\n",
    "incident.head()"
   ]
  },
  {
   "attachments": {},
   "cell_type": "markdown",
   "metadata": {},
   "source": [
    "## Description"
   ]
  },
  {
   "attachments": {},
   "cell_type": "markdown",
   "metadata": {},
   "source": [
    "Ce jeu de données porte sur les incidents de sécurité survenus sur le réseau de la SNCF depuis janvier 2015 jusqu'au 28 octobre 2022. Il contient 1651 observations qui sont enrégistrées mensuellement. Ne sont listés dans ce fichier que les événements de sécurité impliquant un dysfonctionnement du système ferroviaire, qu'il soit d'origine interne ou externe. Il contient 9 variables à savoir:\n",
    "* *id et numero_isic*: pour l'identifiant des incidents\n",
    "* *origine*: \n",
    "* *type_event*: elle renseigne sur le type d'évenement survenu,\n",
    "* *date*: elle renseigne sur la date de survenue de l'événement\n",
    "* *nature*: elle renseigne sur la nature de l'événement\n",
    "* *region*: elle renseigne sur la région dans laquelle est survenu l'événement\n",
    "* *lieu*: elle renseigne sur le lieu où est survenu l'événement\n",
    "* *niveau_gravite*: elle renseigne sur le niveau de gravité de l'incident. L'échelle de gravité couvre 6 niveaux, le niveau 1 correspond à un événement \"mineur\"  et le niveau 6 correspond à un évènement qui a eu des conséquences graves. "
   ]
  },
  {
   "attachments": {},
   "cell_type": "markdown",
   "metadata": {},
   "source": [
    "## Données manquantes\n",
    "Nous nous intéressons dans cette partie aux données manquantes sur les différentes variables exceptées les variables id et numero_isic qui ne présentent aucun intérêt pour notre étude."
   ]
  },
  {
   "cell_type": "code",
   "execution_count": 20,
   "metadata": {},
   "outputs": [
    {
     "data": {
      "text/plain": [
       "482"
      ]
     },
     "execution_count": 20,
     "metadata": {},
     "output_type": "execute_result"
    }
   ],
   "source": [
    "df1 = incident.drop(columns=['numero_isic', 'id'])   # on retire l'id et numero_isic\n",
    "df1= df1[df1.isnull().any(axis=1)] # filtrage aux observations comportant des données manquantes\n",
    "len(df1)"
   ]
  },
  {
   "attachments": {},
   "cell_type": "markdown",
   "metadata": {},
   "source": [
    "Au total, 482 incidents ont été enrégistrés avec des informations manquantes sur l'une au moins des variables. \n",
    "\n",
    "Regardons les données manquantes par variable.\n"
   ]
  },
  {
   "cell_type": "code",
   "execution_count": 26,
   "metadata": {},
   "outputs": [
    {
     "data": {
      "text/plain": [
       "origine            19\n",
       "type_event         20\n",
       "date               19\n",
       "nature             10\n",
       "region             61\n",
       "lieu               20\n",
       "niveau_gravite    466\n",
       "dtype: int64"
      ]
     },
     "execution_count": 26,
     "metadata": {},
     "output_type": "execute_result"
    }
   ],
   "source": [
    "df1.isnull().sum()"
   ]
  },
  {
   "attachments": {},
   "cell_type": "markdown",
   "metadata": {},
   "source": [
    "Exceptée la variable *niveau_gravite* dont environ 28% de ces données sont manquantes, les autre variables ont une proprtion relativement faible de données manquantes."
   ]
  }
 ],
 "metadata": {
  "kernelspec": {
   "display_name": "base",
   "language": "python",
   "name": "python3"
  },
  "language_info": {
   "codemirror_mode": {
    "name": "ipython",
    "version": 3
   },
   "file_extension": ".py",
   "mimetype": "text/x-python",
   "name": "python",
   "nbconvert_exporter": "python",
   "pygments_lexer": "ipython3",
   "version": "3.9.13"
  },
  "orig_nbformat": 4,
  "vscode": {
   "interpreter": {
    "hash": "b3070ebe01dabe6899f14b788004d6179775105c513016072a8b1744c961e9ca"
   }
  }
 },
 "nbformat": 4,
 "nbformat_minor": 2
}
