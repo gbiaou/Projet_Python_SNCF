{
 "cells": [
  {
   "attachments": {},
   "cell_type": "markdown",
   "metadata": {},
   "source": [
    "# Découverte de la base de donnée sur les incidents\n",
    "## Chargement de la base et visualisation de quelques lignes"
   ]
  },
  {
   "cell_type": "code",
   "execution_count": 310,
   "metadata": {},
   "outputs": [
    {
     "data": {
      "text/html": [
       "<div>\n",
       "<style scoped>\n",
       "    .dataframe tbody tr th:only-of-type {\n",
       "        vertical-align: middle;\n",
       "    }\n",
       "\n",
       "    .dataframe tbody tr th {\n",
       "        vertical-align: top;\n",
       "    }\n",
       "\n",
       "    .dataframe thead th {\n",
       "        text-align: right;\n",
       "    }\n",
       "</style>\n",
       "<table border=\"1\" class=\"dataframe\">\n",
       "  <thead>\n",
       "    <tr style=\"text-align: right;\">\n",
       "      <th></th>\n",
       "      <th>id</th>\n",
       "      <th>origine</th>\n",
       "      <th>numero_isic</th>\n",
       "      <th>type_event</th>\n",
       "      <th>date</th>\n",
       "      <th>nature</th>\n",
       "      <th>region</th>\n",
       "      <th>lieu</th>\n",
       "      <th>niveau_gravite</th>\n",
       "    </tr>\n",
       "  </thead>\n",
       "  <tbody>\n",
       "    <tr>\n",
       "      <th>0</th>\n",
       "      <td>18212</td>\n",
       "      <td>Mobilités</td>\n",
       "      <td>0</td>\n",
       "      <td>Dépassement de la vitesse limite de plus de 40...</td>\n",
       "      <td>2015-01-12</td>\n",
       "      <td>Dépassement de vitesse supérieur à 40 km/h</td>\n",
       "      <td>RA</td>\n",
       "      <td>Montbrison (42)</td>\n",
       "      <td>NaN</td>\n",
       "    </tr>\n",
       "    <tr>\n",
       "      <th>1</th>\n",
       "      <td>18152</td>\n",
       "      <td>Réseau</td>\n",
       "      <td>None</td>\n",
       "      <td>RFC</td>\n",
       "      <td>2015-01-14</td>\n",
       "      <td>Un TGV franchi le PN 25 barrières hautes, la s...</td>\n",
       "      <td>None</td>\n",
       "      <td>Lunel (34)</td>\n",
       "      <td>NaN</td>\n",
       "    </tr>\n",
       "    <tr>\n",
       "      <th>2</th>\n",
       "      <td>18196</td>\n",
       "      <td>Réseau</td>\n",
       "      <td>None</td>\n",
       "      <td>Défaillance voie</td>\n",
       "      <td>2015-01-19</td>\n",
       "      <td>Défaut de géométrie nécessitant l'arrêt des ci...</td>\n",
       "      <td>LR</td>\n",
       "      <td>Entre Sète et Le Castellas</td>\n",
       "      <td>NaN</td>\n",
       "    </tr>\n",
       "    <tr>\n",
       "      <th>3</th>\n",
       "      <td>18203</td>\n",
       "      <td>Mobilités</td>\n",
       "      <td>17347</td>\n",
       "      <td>Franchissement intempestif d'un signal d'arrêt...</td>\n",
       "      <td>2015-01-20</td>\n",
       "      <td>Le signal C348 est franchit fermé par le train...</td>\n",
       "      <td>CEN</td>\n",
       "      <td>Orléans</td>\n",
       "      <td>NaN</td>\n",
       "    </tr>\n",
       "    <tr>\n",
       "      <th>4</th>\n",
       "      <td>18379</td>\n",
       "      <td>Réseau</td>\n",
       "      <td>17477</td>\n",
       "      <td>Engagement intempestif d'un train sur une voie...</td>\n",
       "      <td>2015-02-04</td>\n",
       "      <td>Engagement intempestif d'une circulation sur u...</td>\n",
       "      <td>RA</td>\n",
       "      <td>Lyon Perrache (69)</td>\n",
       "      <td>NaN</td>\n",
       "    </tr>\n",
       "  </tbody>\n",
       "</table>\n",
       "</div>"
      ],
      "text/plain": [
       "      id    origine numero_isic  \\\n",
       "0  18212  Mobilités           0   \n",
       "1  18152     Réseau        None   \n",
       "2  18196     Réseau        None   \n",
       "3  18203  Mobilités       17347   \n",
       "4  18379     Réseau       17477   \n",
       "\n",
       "                                          type_event       date  \\\n",
       "0  Dépassement de la vitesse limite de plus de 40... 2015-01-12   \n",
       "1                                                RFC 2015-01-14   \n",
       "2                                   Défaillance voie 2015-01-19   \n",
       "3  Franchissement intempestif d'un signal d'arrêt... 2015-01-20   \n",
       "4  Engagement intempestif d'un train sur une voie... 2015-02-04   \n",
       "\n",
       "                                              nature region  \\\n",
       "0         Dépassement de vitesse supérieur à 40 km/h     RA   \n",
       "1  Un TGV franchi le PN 25 barrières hautes, la s...   None   \n",
       "2  Défaut de géométrie nécessitant l'arrêt des ci...     LR   \n",
       "3  Le signal C348 est franchit fermé par le train...    CEN   \n",
       "4  Engagement intempestif d'une circulation sur u...     RA   \n",
       "\n",
       "                         lieu  niveau_gravite  \n",
       "0             Montbrison (42)             NaN  \n",
       "1                  Lunel (34)             NaN  \n",
       "2  Entre Sète et Le Castellas             NaN  \n",
       "3                     Orléans             NaN  \n",
       "4          Lyon Perrache (69)             NaN  "
      ]
     },
     "execution_count": 310,
     "metadata": {},
     "output_type": "execute_result"
    }
   ],
   "source": [
    "import warnings\n",
    "warnings.filterwarnings(\"ignore\")\n",
    "import numpy as np\n",
    "import pandas as pd\n",
    "import datetime\n",
    "import seaborn as sns\n",
    "url_api=\"https://ressources.data.sncf.com/api/v2/catalog/datasets/incidents-securite/exports/json?limit=-1&offset=0&lang=fr&timezone=Europe%2FParis\"\n",
    "incident= pd.read_json(url_api)\n",
    "incident.head()"
   ]
  },
  {
   "attachments": {},
   "cell_type": "markdown",
   "metadata": {},
   "source": [
    "## Description"
   ]
  },
  {
   "attachments": {},
   "cell_type": "markdown",
   "metadata": {},
   "source": [
    "Ce jeu de données porte sur les incidents de sécurité survenus sur le réseau de la SNCF depuis janvier 2015 jusqu'au 28 octobre 2022. Il contient 1651 observations qui sont enrégistrées mensuellement. Ne sont listés dans ce fichier que les événements de sécurité impliquant un dysfonctionnement du système ferroviaire, qu'il soit d'origine interne ou externe. Il contient 9 variables à savoir:\n",
    "* *id et numero_isic*: pour l'identifiant des incidents\n",
    "* *origine*: \n",
    "* *type_event*: elle renseigne sur le type d'évenement survenu,\n",
    "* *date*: elle renseigne sur la date de survenue de l'événement\n",
    "* *nature*: elle renseigne sur la nature de l'événement\n",
    "* *region*: elle renseigne sur la région dans laquelle est survenu l'événement\n",
    "* *lieu*: elle renseigne sur le lieu où est survenu l'événement\n",
    "* *niveau_gravite*: elle renseigne sur le niveau de gravité de l'incident. L'échelle de gravité couvre 6 niveaux, le niveau 1 correspond à un événement \"mineur\"  et le niveau 6 correspond à un évènement qui a eu des conséquences graves. "
   ]
  },
  {
   "attachments": {},
   "cell_type": "markdown",
   "metadata": {},
   "source": [
    "## Données manquantes\n",
    "Nous nous intéressons dans cette partie aux données manquantes sur les différentes variables exceptées les variables id et numero_isic qui ne présentent aucun intérêt pour notre étude."
   ]
  },
  {
   "cell_type": "code",
   "execution_count": 311,
   "metadata": {},
   "outputs": [
    {
     "data": {
      "text/plain": [
       "482"
      ]
     },
     "execution_count": 311,
     "metadata": {},
     "output_type": "execute_result"
    }
   ],
   "source": [
    "df1 = incident.drop(columns=['numero_isic', 'id'])   # on retire l'id et numero_isic\n",
    "df1= df1[df1.isnull().any(axis=1)] # filtrage aux observations comportant des données manquantes\n",
    "len(df1)"
   ]
  },
  {
   "attachments": {},
   "cell_type": "markdown",
   "metadata": {},
   "source": [
    "Au total, 482 incidents ont été enrégistrés avec des informations manquantes sur l'une au moins des variables. \n",
    "\n",
    "Regardons les données manquantes par variable.\n"
   ]
  },
  {
   "cell_type": "code",
   "execution_count": 312,
   "metadata": {},
   "outputs": [
    {
     "data": {
      "text/plain": [
       "origine            19\n",
       "type_event         20\n",
       "date               19\n",
       "nature             10\n",
       "region             61\n",
       "lieu               20\n",
       "niveau_gravite    466\n",
       "dtype: int64"
      ]
     },
     "execution_count": 312,
     "metadata": {},
     "output_type": "execute_result"
    }
   ],
   "source": [
    "df1.isnull().sum()"
   ]
  },
  {
   "attachments": {},
   "cell_type": "markdown",
   "metadata": {},
   "source": [
    "Exceptée la variable *niveau_gravite* dont environ 28% de ces données sont manquantes, les autre variables ont une proprtion relativement faible de données manquantes."
   ]
  },
  {
   "attachments": {},
   "cell_type": "markdown",
   "metadata": {},
   "source": [
    "### Mais d'où viennent toutes ces données manquantes sur le niveau de gravite?"
   ]
  },
  {
   "cell_type": "code",
   "execution_count": 313,
   "metadata": {},
   "outputs": [
    {
     "data": {
      "text/html": [
       "<div>\n",
       "<style scoped>\n",
       "    .dataframe tbody tr th:only-of-type {\n",
       "        vertical-align: middle;\n",
       "    }\n",
       "\n",
       "    .dataframe tbody tr th {\n",
       "        vertical-align: top;\n",
       "    }\n",
       "\n",
       "    .dataframe thead th {\n",
       "        text-align: right;\n",
       "    }\n",
       "</style>\n",
       "<table border=\"1\" class=\"dataframe\">\n",
       "  <thead>\n",
       "    <tr style=\"text-align: right;\">\n",
       "      <th></th>\n",
       "      <th>Annee</th>\n",
       "      <th>Nbre_valeurs_manquantes</th>\n",
       "      <th>Nbre_enregistrements</th>\n",
       "    </tr>\n",
       "  </thead>\n",
       "  <tbody>\n",
       "    <tr>\n",
       "      <th>0</th>\n",
       "      <td>2015</td>\n",
       "      <td>308</td>\n",
       "      <td>308</td>\n",
       "    </tr>\n",
       "    <tr>\n",
       "      <th>1</th>\n",
       "      <td>2016</td>\n",
       "      <td>0</td>\n",
       "      <td>242</td>\n",
       "    </tr>\n",
       "    <tr>\n",
       "      <th>2</th>\n",
       "      <td>2017</td>\n",
       "      <td>2</td>\n",
       "      <td>225</td>\n",
       "    </tr>\n",
       "    <tr>\n",
       "      <th>3</th>\n",
       "      <td>2018</td>\n",
       "      <td>0</td>\n",
       "      <td>217</td>\n",
       "    </tr>\n",
       "    <tr>\n",
       "      <th>4</th>\n",
       "      <td>2020</td>\n",
       "      <td>139</td>\n",
       "      <td>164</td>\n",
       "    </tr>\n",
       "    <tr>\n",
       "      <th>5</th>\n",
       "      <td>2021</td>\n",
       "      <td>3</td>\n",
       "      <td>184</td>\n",
       "    </tr>\n",
       "    <tr>\n",
       "      <th>6</th>\n",
       "      <td>2019</td>\n",
       "      <td>1</td>\n",
       "      <td>157</td>\n",
       "    </tr>\n",
       "    <tr>\n",
       "      <th>7</th>\n",
       "      <td>2022</td>\n",
       "      <td>0</td>\n",
       "      <td>135</td>\n",
       "    </tr>\n",
       "  </tbody>\n",
       "</table>\n",
       "</div>"
      ],
      "text/plain": [
       "  Annee  Nbre_valeurs_manquantes  Nbre_enregistrements\n",
       "0  2015                      308                   308\n",
       "1  2016                        0                   242\n",
       "2  2017                        2                   225\n",
       "3  2018                        0                   217\n",
       "4  2020                      139                   164\n",
       "5  2021                        3                   184\n",
       "6  2019                        1                   157\n",
       "7  2022                        0                   135"
      ]
     },
     "execution_count": 313,
     "metadata": {},
     "output_type": "execute_result"
    }
   ],
   "source": [
    "incident['annee']=incident['date'].dt.strftime('%Y')\n",
    "def miss_by_year(variable): #cette fonction retourne un tableau sur le nombre de valeurs manquantes par année de la variable de la base \"incident\" passé en argument\n",
    "    annee1=np.array(incident['annee'].unique())\n",
    "    annee1=np.delete(annee1,1)\n",
    "    count_na=[]\n",
    "    for i in annee1:\n",
    "        df=incident[incident['annee']==i]\n",
    "        count_na.append(df[variable].isnull().sum())\n",
    "    count_na=np.array(count_na)\n",
    "    df2=incident.groupby('annee').agg({'annee': \"count\"})\n",
    "    tab=pd.DataFrame({\"Annee\":annee1, \"Nbre_valeurs_manquantes\":count_na, \"Nbre_enregistrements\":df2['annee']})\n",
    "    tab=tab.reset_index(drop=True)\n",
    "    return(tab)\n",
    " \n",
    "miss_by_year(\"niveau_gravite\")"
   ]
  },
  {
   "attachments": {},
   "cell_type": "markdown",
   "metadata": {},
   "source": [
    "Sur les 308 incidents enrégistrés en 2015, auncune information sur le niveau de gravité de ces incidents n'a été enrégistrée. Ces données manquantes sur le niveau de gravité des incidents en 2015 représentent environ 66% du total des données manquantes sur cette variable sur l'ensemble des données.\n",
    "\n",
    "On peut déduire qu'en 2015, l'indicateur mesurant le niveau de gravité des incidents ie \"niveau_gravite\" n'avait pas encore été mis en place. On choisit de ne pas imputer les données manquantes sur le niveau de gravité en 2015 puisqu'elles n'ont jamais existé. Dans le traitement des données, on ignorera les données de 2015 dans les cas où l'analyse implique la variable niveau_gravite."
   ]
  },
  {
   "attachments": {},
   "cell_type": "markdown",
   "metadata": {},
   "source": [
    "## Traitement des données manquantes"
   ]
  },
  {
   "cell_type": "code",
   "execution_count": 314,
   "metadata": {},
   "outputs": [],
   "source": [
    "#supression des valeurs extrêmes\n",
    "incident=incident.drop(incident[(incident['niveau_gravite']<1)  | (incident['niveau_gravite']>6)].index, inplace=False)"
   ]
  },
  {
   "attachments": {},
   "cell_type": "markdown",
   "metadata": {},
   "source": [
    "Nous procédons dans cette partie aux traitements des valeurs manquantes par variable. Pour cela, nous avons implenté une fonction `nettoyage` qui prend en paramètre le nom de la variable dont on veut traiter les valeurs manquantes."
   ]
  },
  {
   "attachments": {},
   "cell_type": "markdown",
   "metadata": {},
   "source": [
    "### Description de la fonction\n",
    "\n",
    "Pour une ligne i donnée ayant une valeur manquante pour la variable en paramètre, l'idée est de regrouper toutes les lignes n'ayant pas de valeur pas de valeur manquante pour la variable à imputer et qui ressemblent plus à la ligne i du point de vue de trois facteurs que sont: l'année (`annee`), le type d'évenement (`type_event`) et l'origine (`origine`). On obtient alors une classe de ressemblance pour la ligne i qu'on utilise ensuite pour l'imputation. Si la variable à imputer (donc en argument) de la fonction est l'un de nos 03 facteurs , on ignore ce facteur dans la constitution de la classe de ressemblance. De même, lorsque la valeur de la ligne i pour l'un des facteurs est manquante, on ignore ce facteur dans la constitution de la classe de ressemblance. Par ailleurs, dans la constitution de la classe de ressemblance, les facteurs sont sélectionnés successivement dans l'ordre: annee, type_event, origine. Lorsqu'en ajoutant un facteur donné, la classe devient vide, cela signifie qu'il n'existe aucune obervation (ligne) ayant les mêmes valeurs que la ligne i pour les facteurs sélectionnés. Le dernier facteur ajouté sera alors ignoré dans la constitution de la classe d'équivalence. Une fois la classe construite, on impute la valeur manquante par la moyenne ou par le mode de la variable à imputer selon le type de cette variable."
   ]
  },
  {
   "cell_type": "code",
   "execution_count": 315,
   "metadata": {},
   "outputs": [],
   "source": [
    "def nettoyage(var):\n",
    "    if var==\"niveau_gravite\":\n",
    "        year=[\"2016\",\"2017\",\"2018\",\"2019\",\"2020\",\"2021\",\"2022\"]\n",
    "    if var!=\"niveau_gravite\":\n",
    "        year=[\"2015\",\"2016\",\"2017\",\"2018\",\"2019\",\"2020\",\"2021\",\"2022\"]\n",
    "    factor=[\"type_event\", \"origine\"]\n",
    "    for i in year:\n",
    "        data=incident.loc[(incident[var].isnull()==True) & (incident['annee']==i)]\n",
    "        if len(data)!=0:\n",
    "            index=data.index\n",
    "            for j in range(len(index)):\n",
    "                df=incident.loc[(incident['annee']==i) & (incident[var].isnull()==False)]\n",
    "                if var!=\"type_event\":\n",
    "                    if (len(df.loc[incident['type_event']==incident['type_event'][index[j]]])!=0) & (incident['type_event'][index[j]]!=np.nan):\n",
    "                        df=df.loc[(incident['type_event']==incident['type_event'][index[j]])]\n",
    "                if var!=\"origine\":\n",
    "                    if (len(df.loc[(incident['origine']==incident['origine'][index[j]])])!=0) & (incident['origine'][index[j]]!=np.nan):\n",
    "                        df=df.loc[(incident['origine']==incident['origine'][index[j]])]\n",
    "                if var==\"niveau_gravite\":\n",
    "                    incident[var][index[j]]=df[var].mean()\n",
    "                if var!=\"niveau_gravite\":\n",
    "                    incident[var][index[j]]=df[var].mode()[0]\n",
    "    return(incident)\n"
   ]
  },
  {
   "attachments": {},
   "cell_type": "markdown",
   "metadata": {},
   "source": [
    "#### Traitement des valeurs manquantes de la variable `niveau_gravite`\n",
    "On utilise la fonction `nettoyage` pour imputer les valeurs manquantes de la variable `niveau_gravite`. Comme indiqué ci-dessus, l'année 2015 ne sera pas considérée pour cette variable. "
   ]
  },
  {
   "cell_type": "code",
   "execution_count": 316,
   "metadata": {},
   "outputs": [
    {
     "data": {
      "text/html": [
       "<div>\n",
       "<style scoped>\n",
       "    .dataframe tbody tr th:only-of-type {\n",
       "        vertical-align: middle;\n",
       "    }\n",
       "\n",
       "    .dataframe tbody tr th {\n",
       "        vertical-align: top;\n",
       "    }\n",
       "\n",
       "    .dataframe thead th {\n",
       "        text-align: right;\n",
       "    }\n",
       "</style>\n",
       "<table border=\"1\" class=\"dataframe\">\n",
       "  <thead>\n",
       "    <tr style=\"text-align: right;\">\n",
       "      <th></th>\n",
       "      <th>Annee</th>\n",
       "      <th>Nbre_valeurs_manquantes</th>\n",
       "      <th>Nbre_enregistrements</th>\n",
       "    </tr>\n",
       "  </thead>\n",
       "  <tbody>\n",
       "    <tr>\n",
       "      <th>0</th>\n",
       "      <td>2015</td>\n",
       "      <td>308</td>\n",
       "      <td>308</td>\n",
       "    </tr>\n",
       "    <tr>\n",
       "      <th>1</th>\n",
       "      <td>2016</td>\n",
       "      <td>0</td>\n",
       "      <td>242</td>\n",
       "    </tr>\n",
       "    <tr>\n",
       "      <th>2</th>\n",
       "      <td>2017</td>\n",
       "      <td>0</td>\n",
       "      <td>225</td>\n",
       "    </tr>\n",
       "    <tr>\n",
       "      <th>3</th>\n",
       "      <td>2018</td>\n",
       "      <td>0</td>\n",
       "      <td>217</td>\n",
       "    </tr>\n",
       "    <tr>\n",
       "      <th>4</th>\n",
       "      <td>2020</td>\n",
       "      <td>0</td>\n",
       "      <td>164</td>\n",
       "    </tr>\n",
       "    <tr>\n",
       "      <th>5</th>\n",
       "      <td>2021</td>\n",
       "      <td>0</td>\n",
       "      <td>184</td>\n",
       "    </tr>\n",
       "    <tr>\n",
       "      <th>6</th>\n",
       "      <td>2019</td>\n",
       "      <td>0</td>\n",
       "      <td>157</td>\n",
       "    </tr>\n",
       "    <tr>\n",
       "      <th>7</th>\n",
       "      <td>2022</td>\n",
       "      <td>0</td>\n",
       "      <td>135</td>\n",
       "    </tr>\n",
       "  </tbody>\n",
       "</table>\n",
       "</div>"
      ],
      "text/plain": [
       "  Annee  Nbre_valeurs_manquantes  Nbre_enregistrements\n",
       "0  2015                      308                   308\n",
       "1  2016                        0                   242\n",
       "2  2017                        0                   225\n",
       "3  2018                        0                   217\n",
       "4  2020                        0                   164\n",
       "5  2021                        0                   184\n",
       "6  2019                        0                   157\n",
       "7  2022                        0                   135"
      ]
     },
     "execution_count": 316,
     "metadata": {},
     "output_type": "execute_result"
    }
   ],
   "source": [
    "incident=nettoyage(\"niveau_gravite\")           \n",
    "miss_by_year(\"niveau_gravite\")"
   ]
  },
  {
   "attachments": {},
   "cell_type": "markdown",
   "metadata": {},
   "source": [
    "#### Traitement des valeurs manquantes de la variable `annee`\n"
   ]
  },
  {
   "cell_type": "code",
   "execution_count": 317,
   "metadata": {},
   "outputs": [
    {
     "data": {
      "text/html": [
       "<div>\n",
       "<style scoped>\n",
       "    .dataframe tbody tr th:only-of-type {\n",
       "        vertical-align: middle;\n",
       "    }\n",
       "\n",
       "    .dataframe tbody tr th {\n",
       "        vertical-align: top;\n",
       "    }\n",
       "\n",
       "    .dataframe thead th {\n",
       "        text-align: right;\n",
       "    }\n",
       "</style>\n",
       "<table border=\"1\" class=\"dataframe\">\n",
       "  <thead>\n",
       "    <tr style=\"text-align: right;\">\n",
       "      <th></th>\n",
       "      <th>id</th>\n",
       "      <th>origine</th>\n",
       "      <th>numero_isic</th>\n",
       "      <th>type_event</th>\n",
       "      <th>date</th>\n",
       "      <th>nature</th>\n",
       "      <th>region</th>\n",
       "      <th>lieu</th>\n",
       "      <th>niveau_gravite</th>\n",
       "      <th>annee</th>\n",
       "    </tr>\n",
       "  </thead>\n",
       "  <tbody>\n",
       "    <tr>\n",
       "      <th>66</th>\n",
       "      <td>None</td>\n",
       "      <td>None</td>\n",
       "      <td>None</td>\n",
       "      <td>None</td>\n",
       "      <td>NaT</td>\n",
       "      <td>Blanc = ESR Autre</td>\n",
       "      <td>None</td>\n",
       "      <td>None</td>\n",
       "      <td>NaN</td>\n",
       "      <td>NaN</td>\n",
       "    </tr>\n",
       "    <tr>\n",
       "      <th>346</th>\n",
       "      <td>None</td>\n",
       "      <td>None</td>\n",
       "      <td>None</td>\n",
       "      <td>None</td>\n",
       "      <td>NaT</td>\n",
       "      <td>Marron = ESR NG Infra</td>\n",
       "      <td>None</td>\n",
       "      <td>None</td>\n",
       "      <td>NaN</td>\n",
       "      <td>NaN</td>\n",
       "    </tr>\n",
       "    <tr>\n",
       "      <th>347</th>\n",
       "      <td>None</td>\n",
       "      <td>None</td>\n",
       "      <td>None</td>\n",
       "      <td>None</td>\n",
       "      <td>NaT</td>\n",
       "      <td>Vert Foncé = ESR NG Mobilités</td>\n",
       "      <td>None</td>\n",
       "      <td>None</td>\n",
       "      <td>NaN</td>\n",
       "      <td>NaN</td>\n",
       "    </tr>\n",
       "    <tr>\n",
       "      <th>394</th>\n",
       "      <td>None</td>\n",
       "      <td>None</td>\n",
       "      <td>None</td>\n",
       "      <td>None</td>\n",
       "      <td>NaT</td>\n",
       "      <td>None</td>\n",
       "      <td>None</td>\n",
       "      <td>None</td>\n",
       "      <td>3.785124</td>\n",
       "      <td>NaN</td>\n",
       "    </tr>\n",
       "    <tr>\n",
       "      <th>435</th>\n",
       "      <td>None</td>\n",
       "      <td>None</td>\n",
       "      <td>None</td>\n",
       "      <td>None</td>\n",
       "      <td>NaT</td>\n",
       "      <td>Marron = ESR Infra M et T</td>\n",
       "      <td>None</td>\n",
       "      <td>None</td>\n",
       "      <td>NaN</td>\n",
       "      <td>NaN</td>\n",
       "    </tr>\n",
       "  </tbody>\n",
       "</table>\n",
       "</div>"
      ],
      "text/plain": [
       "       id origine numero_isic type_event date                         nature  \\\n",
       "66   None    None        None       None  NaT              Blanc = ESR Autre   \n",
       "346  None    None        None       None  NaT          Marron = ESR NG Infra   \n",
       "347  None    None        None       None  NaT  Vert Foncé = ESR NG Mobilités   \n",
       "394  None    None        None       None  NaT                           None   \n",
       "435  None    None        None       None  NaT      Marron = ESR Infra M et T   \n",
       "\n",
       "    region  lieu  niveau_gravite annee  \n",
       "66    None  None             NaN   NaN  \n",
       "346   None  None             NaN   NaN  \n",
       "347   None  None             NaN   NaN  \n",
       "394   None  None        3.785124   NaN  \n",
       "435   None  None             NaN   NaN  "
      ]
     },
     "execution_count": 317,
     "metadata": {},
     "output_type": "execute_result"
    }
   ],
   "source": [
    "incident.loc[incident['date'].isnull()==True].head()"
   ]
  },
  {
   "attachments": {},
   "cell_type": "markdown",
   "metadata": {},
   "source": [
    "On note que lorsque l'année d'une obervation n'a pas été renseignée, aucune des autres variables n'est renseignée sauf peut-être la nature. Il s'agit d'une non-réponse totale si la nature n'est pas considérée.\n",
    "\n",
    "On décide de supprimer les observations dont l'année n'a pas été renseignée."
   ]
  },
  {
   "cell_type": "code",
   "execution_count": 318,
   "metadata": {},
   "outputs": [
    {
     "data": {
      "text/plain": [
       "origine             0\n",
       "type_event          1\n",
       "date                0\n",
       "nature              2\n",
       "region             43\n",
       "lieu                1\n",
       "niveau_gravite    308\n",
       "annee               0\n",
       "dtype: int64"
      ]
     },
     "execution_count": 318,
     "metadata": {},
     "output_type": "execute_result"
    }
   ],
   "source": [
    "incident=incident.drop(incident[incident['date'].isnull()==True].index, inplace=False)\n",
    "df1 = incident.drop(columns=['numero_isic', 'id'])\n",
    "df1.isnull().sum()"
   ]
  },
  {
   "attachments": {},
   "cell_type": "markdown",
   "metadata": {},
   "source": [
    "#### Traitement des valeurs manquantes de la variable `type_event`"
   ]
  },
  {
   "cell_type": "code",
   "execution_count": 319,
   "metadata": {},
   "outputs": [
    {
     "data": {
      "text/plain": [
       "origine             0\n",
       "type_event          0\n",
       "date                0\n",
       "nature              2\n",
       "region             43\n",
       "lieu                1\n",
       "niveau_gravite    308\n",
       "annee               0\n",
       "dtype: int64"
      ]
     },
     "execution_count": 319,
     "metadata": {},
     "output_type": "execute_result"
    }
   ],
   "source": [
    "nettoyage(\"type_event\")\n",
    "df1 = incident.drop(columns=['numero_isic', 'id'])\n",
    "df1.isnull().sum()"
   ]
  },
  {
   "attachments": {},
   "cell_type": "markdown",
   "metadata": {},
   "source": [
    "#### Traitement des valeurs manquantes de la variable `region`"
   ]
  },
  {
   "cell_type": "code",
   "execution_count": 320,
   "metadata": {},
   "outputs": [
    {
     "data": {
      "text/plain": [
       "origine             0\n",
       "type_event          0\n",
       "date                0\n",
       "nature              2\n",
       "region              0\n",
       "lieu                1\n",
       "niveau_gravite    308\n",
       "annee               0\n",
       "dtype: int64"
      ]
     },
     "execution_count": 320,
     "metadata": {},
     "output_type": "execute_result"
    }
   ],
   "source": [
    "incident=nettoyage(\"region\")\n",
    "df1 = incident.drop(columns=['numero_isic', 'id'])\n",
    "df1.isnull().sum()"
   ]
  },
  {
   "attachments": {},
   "cell_type": "markdown",
   "metadata": {},
   "source": [
    "Les variables `nature` et `lieu` ne seront pas imputées parce qu'ayant presque autant de modalités que d'observations"
   ]
  },
  {
   "cell_type": "code",
   "execution_count": 321,
   "metadata": {},
   "outputs": [
    {
     "data": {
      "text/plain": [
       "1601"
      ]
     },
     "execution_count": 321,
     "metadata": {},
     "output_type": "execute_result"
    }
   ],
   "source": [
    "len(incident['nature'].unique())"
   ]
  },
  {
   "cell_type": "code",
   "execution_count": 322,
   "metadata": {},
   "outputs": [
    {
     "data": {
      "text/plain": [
       "1300"
      ]
     },
     "execution_count": 322,
     "metadata": {},
     "output_type": "execute_result"
    }
   ],
   "source": [
    "len(incident['lieu'].unique())"
   ]
  },
  {
   "attachments": {},
   "cell_type": "markdown",
   "metadata": {},
   "source": [
    "On enregistre la nouvelle base obtenue qui sera ensuite utilisée pour la visualisation."
   ]
  },
  {
   "cell_type": "code",
   "execution_count": 324,
   "metadata": {},
   "outputs": [],
   "source": [
    "incident.to_csv('incident.csv', index=False)"
   ]
  }
 ],
 "metadata": {
  "kernelspec": {
   "display_name": "base",
   "language": "python",
   "name": "python3"
  },
  "language_info": {
   "codemirror_mode": {
    "name": "ipython",
    "version": 3
   },
   "file_extension": ".py",
   "mimetype": "text/x-python",
   "name": "python",
   "nbconvert_exporter": "python",
   "pygments_lexer": "ipython3",
   "version": "3.9.13"
  },
  "orig_nbformat": 4,
  "vscode": {
   "interpreter": {
    "hash": "b3070ebe01dabe6899f14b788004d6179775105c513016072a8b1744c961e9ca"
   }
  }
 },
 "nbformat": 4,
 "nbformat_minor": 2
}
