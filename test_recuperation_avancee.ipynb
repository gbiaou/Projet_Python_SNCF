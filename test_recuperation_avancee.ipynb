{
 "cells": [
  {
   "cell_type": "code",
   "execution_count": 4,
   "metadata": {},
   "outputs": [
    {
     "name": "stderr",
     "output_type": "stream",
     "text": [
      "Unexpected parameter: max_results\n"
     ]
    },
    {
     "name": "stdout",
     "output_type": "stream",
     "text": [
      "@VoilaLamort @Ecrins6 @Licorne4Marie Il est bien question dans cette discussion de la sncf ? Je ne parle que d'eux… https://t.co/E6Kt4PWbpL\n",
      "@a_l_instant_T @patpitie @SNCF Prends un bus Macron\n",
      "@Stebzn Je ne comprends pas votre question, de quelle gare partez-vous ?\n",
      "@Francki81 @Samuel_Lafont Le droit du travail c'était les luttes de TOUS les ouvriers alors vos arguments de la snc… https://t.co/p6qhFI69Tm\n",
      "@a_l_instant_T @SNCF Quand il fallait défendre les services publics tu devais avoir piscine ces jours là\n",
      "@FillonPeneloppe @SNCF Si je fais le choix du tr on c’est que j’ai de bonnes raisons, merci pour la leçon de morale\n",
      "@15nivose @hugoguillemet @K_Nieto_ Je pense qu’ils voient que personne n’a les avantages de la SNCF ni leur régime… https://t.co/BYGcOvSn02\n",
      "@Antoine_Soula @SNCF @GroupeSNCF @CBeaune quelqu'un lui dit que Lyria c'est une société privée ?\n",
      "@Ecrins6 Ce sera l'usager le perdant de la privatisation, tandis que la SNCF se débarrassera des lignes non rentables.\n",
      "À quelle heure on saura définitivement si un TGV du 24 sera supprimé ou pas ? #SNCF\n",
      "Les contrôleurs grévistes SNCF qui lisent ça. Y a un seul week-end où le pays se retrouve, c'est le repère annuel d… https://t.co/IYMkBGTk4J\n",
      "RT @BreakingInfosJR: Soutien aux grévistes de la #SNCF traités de \"preneurs d'otages\" sur @CNEWS par @LouisDeRaguenel.\n",
      "\n",
      "Rappel : \n",
      "1) Le dro…\n",
      "🚄 Grève à la SNCF : 2 trains sur 3 circuleront en moyenne ce week-end de Noël.\n",
      "\n",
      "Prévisions de circulation, rembours… https://t.co/SQ4vQb2JgL\n",
      "RT @Samuel_Lafont: Vous avez envie de dire quoi aux grévistes de la SNCF qui ont choisi Noël et le Jour de l'An ?\n",
      "@SchnellT @SNCF pourquoi vous emnettez avec une resa et un billet puisqu'ils ne s'embêtent pas avec vous et qu'il ne controleront pas !\n"
     ]
    }
   ],
   "source": [
    "import tweepy\n",
    "import searchtweets\n",
    "import yaml\n",
    "\n",
    "# Charger les informations d'identification à partir d'un fichier de configuration\n",
    "with open('config.yaml', 'r') as f:\n",
    "    config = yaml.safe_load(f)\n",
    "    consumer_key = config['consumer_key']\n",
    "    consumer_secret = config['consumer_secret']\n",
    "    access_token = config['access_token']\n",
    "    access_token_secret = config['access_token_secret']\n",
    "\n",
    "# Se authentifier auprès de l'API de Twitter\n",
    "auth = tweepy.OAuth1UserHandler(consumer_key, consumer_secret, access_token, access_token_secret)\n",
    "api = tweepy.API(auth)\n",
    "\n",
    "# Récupérer les tweets concernant la SNCF\n",
    "tweets = api.search_tweets(q=\"sncf\", max_results=1000)\n",
    "\n",
    "# Afficher les tweets trouvés\n",
    "for tweet in tweets:\n",
    "    print(tweet.text)\n"
   ]
  }
 ],
 "metadata": {
  "kernelspec": {
   "display_name": "Python 3",
   "language": "python",
   "name": "python3"
  },
  "language_info": {
   "codemirror_mode": {
    "name": "ipython",
    "version": 3
   },
   "file_extension": ".py",
   "mimetype": "text/x-python",
   "name": "python",
   "nbconvert_exporter": "python",
   "pygments_lexer": "ipython3",
   "version": "3.10.9"
  },
  "orig_nbformat": 4,
  "vscode": {
   "interpreter": {
    "hash": "c92bf64cd2e91b8d8e093d97f3375494d073e69df3affcb6643d8feffe8d8320"
   }
  }
 },
 "nbformat": 4,
 "nbformat_minor": 2
}
