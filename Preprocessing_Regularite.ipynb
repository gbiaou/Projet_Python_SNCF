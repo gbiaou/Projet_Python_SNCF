{
  "cells": [
    {
      "attachments": {},
      "cell_type": "markdown",
      "metadata": {},
      "source": [
        "### Avant propos\n",
        "Les noms « TER », au même titre que « Transilien » ou « TGV », désigne des marques commerciale appartenant à SNCF Voyageurs.\n",
        "\n",
        "# 1.TER\n",
        "Le Transport express régional, généralement désigné par le sigle TER, est une marque commerciale de SNCF Voyageurs qui s'applique aux trains et autocars qu'elle exploite dans le cadre de conventions passées avec les régions.\n",
        "tous les trains de desserte régionale et locale exploités par SNCF Voyageurs sont des trains TER, **sauf en Île-de-France**, où la marque **Transilien** est utilisée, et en Corse, où ce sont les Chemins de fer de la Corse (CFC) qui gèrent le réseau de transport ferroviaire régional.\n",
        "Le TER  offre trois types de services: \n",
        "1. desserte péri-urbaine \n",
        "2. desserte régionale interurbaine\n",
        "3. desserte de territoires isolés\n",
        "\n",
        "\n",
        "# 2.Transilien\n",
        "le Transilien comme introduit plus haut  est le nom du réseau de trains de banlieue de SNCF Voyageurs desservant principalement les gares d'Île-de-France.\n",
        "\n",
        "# 3.TGV\n",
        "Le TGV (sigle de train à grande vitesse) est une rame automotrice de conception française alimentée par caténaire et propulsée par des moteurs électriques. iL se distingue des autres marques commerciales pour sa vitesse, atteignant régulièrement la vitesse de croisière de 320 km/h\n",
        "\n",
        "\n",
        "## définition de la régularité\n",
        "\n",
        "La régularité tient compte des différentes durées de trajet des clients (aussi appelée composite).\n",
        "\n",
        "* Un train est considéré à l'heure si son retard au terminus est inférieur à 5min pour un parcours inférieur à 1h30\n",
        "* Un train est considéré à l'heure si son retard au terminus est inférieur à 10min pour un parcours entre 1h30 et 3h\n",
        "* Un train est considéré à l'heure si son retard au terminus est inférieur à 15min pour un parcours au-delà de 3h\n",
        "\n",
        "**Pour être plus précis dans nos analyse,notre projet ne couvrira que la partie regularité TER**"
      ]
    },
    {
      "cell_type": "code",
      "execution_count": 1,
      "metadata": {},
      "outputs": [],
      "source": [
        "# Ignorer les messages de warning\n",
        "import warnings \n",
        "warnings.filterwarnings(\"ignore\")"
      ]
    },
    {
      "attachments": {},
      "cell_type": "markdown",
      "metadata": {},
      "source": [
        "## I.Importation des données"
      ]
    },
    {
      "cell_type": "code",
      "execution_count": 2,
      "metadata": {
        "id": "CQG6jlXzLzUw"
      },
      "outputs": [],
      "source": [
        "#Lien pour recuperer les données via l'API de la SNFC\n",
        "url_api=\"https://ressources.data.sncf.com/api/v2/catalog/datasets/regularite-mensuelle-ter/exports/json?limit=-1&offset=0&timezone=UTC\""
      ]
    },
    {
      "cell_type": "code",
      "execution_count": 3,
      "metadata": {
        "colab": {
          "base_uri": "https://localhost:8080/",
          "height": 676
        },
        "id": "ecixiJG0Lrhi",
        "outputId": "543c849e-ff00-4a01-8dd4-6601ce74eb61"
      },
      "outputs": [
        {
          "name": "stdout",
          "output_type": "stream",
          "text": [
            "(1825, 9)\n"
          ]
        },
        {
          "data": {
            "text/html": [
              "<div>\n",
              "<style scoped>\n",
              "    .dataframe tbody tr th:only-of-type {\n",
              "        vertical-align: middle;\n",
              "    }\n",
              "\n",
              "    .dataframe tbody tr th {\n",
              "        vertical-align: top;\n",
              "    }\n",
              "\n",
              "    .dataframe thead th {\n",
              "        text-align: right;\n",
              "    }\n",
              "</style>\n",
              "<table border=\"1\" class=\"dataframe\">\n",
              "  <thead>\n",
              "    <tr style=\"text-align: right;\">\n",
              "      <th></th>\n",
              "      <th>date</th>\n",
              "      <th>region</th>\n",
              "      <th>nombre_de_trains_programmes</th>\n",
              "      <th>nombre_de_trains_ayant_circule</th>\n",
              "      <th>nombre_de_trains_annules</th>\n",
              "      <th>nombre_de_trains_en_retard_a_l_arrivee</th>\n",
              "      <th>taux_de_regularite</th>\n",
              "      <th>nombre_de_trains_a_l_heure_pour_un_train_en_retard_a_l_arrivee</th>\n",
              "      <th>commentaires</th>\n",
              "    </tr>\n",
              "  </thead>\n",
              "  <tbody>\n",
              "    <tr>\n",
              "      <th>0</th>\n",
              "      <td>2013-01</td>\n",
              "      <td>Languedoc Roussillon</td>\n",
              "      <td>5024.0</td>\n",
              "      <td>4897.0</td>\n",
              "      <td>127.0</td>\n",
              "      <td>377.0</td>\n",
              "      <td>92.301409</td>\n",
              "      <td>11.989390</td>\n",
              "      <td>Chute de neige sur le littoral.</td>\n",
              "    </tr>\n",
              "    <tr>\n",
              "      <th>246</th>\n",
              "      <td>2013-01</td>\n",
              "      <td>Lorraine</td>\n",
              "      <td>NaN</td>\n",
              "      <td>NaN</td>\n",
              "      <td>NaN</td>\n",
              "      <td>NaN</td>\n",
              "      <td>NaN</td>\n",
              "      <td>NaN</td>\n",
              "      <td>Le Président de la Région Lorraine s'est oppos...</td>\n",
              "    </tr>\n",
              "    <tr>\n",
              "      <th>253</th>\n",
              "      <td>2013-01</td>\n",
              "      <td>Bretagne</td>\n",
              "      <td>8776.0</td>\n",
              "      <td>8631.0</td>\n",
              "      <td>145.0</td>\n",
              "      <td>554.0</td>\n",
              "      <td>93.581277</td>\n",
              "      <td>14.579422</td>\n",
              "      <td>Fortes chutes de neige ayant entrainé des pert...</td>\n",
              "    </tr>\n",
              "    <tr>\n",
              "      <th>257</th>\n",
              "      <td>2013-01</td>\n",
              "      <td>Haute Normandie</td>\n",
              "      <td>5957.0</td>\n",
              "      <td>5878.0</td>\n",
              "      <td>79.0</td>\n",
              "      <td>488.0</td>\n",
              "      <td>91.697856</td>\n",
              "      <td>11.045082</td>\n",
              "      <td>Episodes neigeux et difficultés matériels.</td>\n",
              "    </tr>\n",
              "    <tr>\n",
              "      <th>261</th>\n",
              "      <td>2013-01</td>\n",
              "      <td>Nord Pas de Calais</td>\n",
              "      <td>19227.0</td>\n",
              "      <td>18890.0</td>\n",
              "      <td>337.0</td>\n",
              "      <td>2332.0</td>\n",
              "      <td>87.654844</td>\n",
              "      <td>7.100343</td>\n",
              "      <td>Vol de câble à Lille Sud.</td>\n",
              "    </tr>\n",
              "    <tr>\n",
              "      <th>265</th>\n",
              "      <td>2013-01</td>\n",
              "      <td>Picardie</td>\n",
              "      <td>11754.0</td>\n",
              "      <td>11673.0</td>\n",
              "      <td>81.0</td>\n",
              "      <td>1245.0</td>\n",
              "      <td>89.334361</td>\n",
              "      <td>8.375904</td>\n",
              "      <td>Fortes chutes de neige ayant entrainé des pert...</td>\n",
              "    </tr>\n",
              "    <tr>\n",
              "      <th>243</th>\n",
              "      <td>2013-01</td>\n",
              "      <td>Champagne Ardenne</td>\n",
              "      <td>6648.0</td>\n",
              "      <td>6595.0</td>\n",
              "      <td>53.0</td>\n",
              "      <td>334.0</td>\n",
              "      <td>94.935557</td>\n",
              "      <td>18.745509</td>\n",
              "      <td>Conditions météorologiques dégradées du 15 au ...</td>\n",
              "    </tr>\n",
              "    <tr>\n",
              "      <th>53</th>\n",
              "      <td>2013-01</td>\n",
              "      <td>Poitou Charentes</td>\n",
              "      <td>3269.0</td>\n",
              "      <td>3134.0</td>\n",
              "      <td>135.0</td>\n",
              "      <td>205.0</td>\n",
              "      <td>93.458839</td>\n",
              "      <td>14.287805</td>\n",
              "      <td>Mouvements sociaux des agents du service comme...</td>\n",
              "    </tr>\n",
              "  </tbody>\n",
              "</table>\n",
              "</div>"
            ],
            "text/plain": [
              "        date                region  nombre_de_trains_programmes  \\\n",
              "0    2013-01  Languedoc Roussillon                       5024.0   \n",
              "246  2013-01              Lorraine                          NaN   \n",
              "253  2013-01              Bretagne                       8776.0   \n",
              "257  2013-01       Haute Normandie                       5957.0   \n",
              "261  2013-01    Nord Pas de Calais                      19227.0   \n",
              "265  2013-01              Picardie                      11754.0   \n",
              "243  2013-01     Champagne Ardenne                       6648.0   \n",
              "53   2013-01      Poitou Charentes                       3269.0   \n",
              "\n",
              "     nombre_de_trains_ayant_circule  nombre_de_trains_annules  \\\n",
              "0                            4897.0                     127.0   \n",
              "246                             NaN                       NaN   \n",
              "253                          8631.0                     145.0   \n",
              "257                          5878.0                      79.0   \n",
              "261                         18890.0                     337.0   \n",
              "265                         11673.0                      81.0   \n",
              "243                          6595.0                      53.0   \n",
              "53                           3134.0                     135.0   \n",
              "\n",
              "     nombre_de_trains_en_retard_a_l_arrivee  taux_de_regularite  \\\n",
              "0                                     377.0           92.301409   \n",
              "246                                     NaN                 NaN   \n",
              "253                                   554.0           93.581277   \n",
              "257                                   488.0           91.697856   \n",
              "261                                  2332.0           87.654844   \n",
              "265                                  1245.0           89.334361   \n",
              "243                                   334.0           94.935557   \n",
              "53                                    205.0           93.458839   \n",
              "\n",
              "     nombre_de_trains_a_l_heure_pour_un_train_en_retard_a_l_arrivee  \\\n",
              "0                                            11.989390                \n",
              "246                                                NaN                \n",
              "253                                          14.579422                \n",
              "257                                          11.045082                \n",
              "261                                           7.100343                \n",
              "265                                           8.375904                \n",
              "243                                          18.745509                \n",
              "53                                           14.287805                \n",
              "\n",
              "                                          commentaires  \n",
              "0                      Chute de neige sur le littoral.  \n",
              "246  Le Président de la Région Lorraine s'est oppos...  \n",
              "253  Fortes chutes de neige ayant entrainé des pert...  \n",
              "257         Episodes neigeux et difficultés matériels.  \n",
              "261                          Vol de câble à Lille Sud.  \n",
              "265  Fortes chutes de neige ayant entrainé des pert...  \n",
              "243  Conditions météorologiques dégradées du 15 au ...  \n",
              "53   Mouvements sociaux des agents du service comme...  "
            ]
          },
          "execution_count": 3,
          "metadata": {},
          "output_type": "execute_result"
        }
      ],
      "source": [
        "#importation des librairies necessaire à la récuperation et aux traitement des données\n",
        "import requests \n",
        "import pandas as pd\n",
        "#recupération des données de régularité via l'API SNCF \n",
        "req = requests.get(url_api)\n",
        "wb = req.json()\n",
        "\n",
        "# normalisation du fichier json\n",
        "df = pd.json_normalize(wb)\n",
        "print(df.shape)\n",
        "df.sort_values(by='date').head(8) #inspection des 8 premières lignes\n"
      ]
    },
    {
      "attachments": {},
      "cell_type": "markdown",
      "metadata": {
        "id": "f4G8E60gv_pG"
      },
      "source": [
        "**Description de la base**"
      ]
    },
    {
      "attachments": {},
      "cell_type": "markdown",
      "metadata": {
        "id": "OM2pUorewf46"
      },
      "source": [
        "Ce jeu de données porte sur la régularité des trains de la SNCF depuis janvier 2015 jusqu'au 28 octobre 2022. Il contient 1825 observations qui sont enrégistrées mensuellement et par région. Il contient 9 variables à savoir:\n",
        "\n",
        "- **date** : YYYY-MM Année et mois pour ces résultats\n",
        "- **region** : nom de la région concernée\n",
        "- **nombre_de_trains_programmes** : nombre de trains programmés pour le mois \n",
        "- **nombre_de_trains_ayant_circule** : nombre de trains programmés qui ont effectivement circulé \n",
        "- **nombre_de_trains_annules** : nombre de trains programmés qui ont été annulés\n",
        "- **nombre_de_trains_en_retard_a_l_arrivee** : nombre de trains retardés parmi les trains prévus (retart définie dans l'introduction au projet)\n",
        "- **taux_de_regularite** : pourcentage de trains à l'heure \n",
        "- **nombre_de_trains_a_l_heure_pour_un_train_en_retard_a_l_arrivee** : nombre de trains qui sont effectivement arrivés à l'heure pour 1 train annulé (par exemple : 10 trains étaient à l'heure pour 1 retardé)\n",
        "- **commentaires** : divers commentaires rédigés par les gestionnaires sur les raisons du retard ou de l'annulation des trains, et des observations sur les différents indicateurs et résultats.\n"
      ]
    },
    {
      "attachments": {},
      "cell_type": "markdown",
      "metadata": {
        "id": "X2S7irG1e_x5"
      },
      "source": [
        "**Analyse de la qualité de base en vue du traitement des données**\n"
      ]
    },
    {
      "cell_type": "code",
      "execution_count": 4,
      "metadata": {
        "colab": {
          "base_uri": "https://localhost:8080/"
        },
        "id": "cL7k3XENd3eR",
        "outputId": "c0fd9e41-2b92-453f-e51a-a5ae289148d8"
      },
      "outputs": [
        {
          "data": {
            "text/plain": [
              "date                                                               object\n",
              "region                                                             object\n",
              "nombre_de_trains_programmes                                       float64\n",
              "nombre_de_trains_ayant_circule                                    float64\n",
              "nombre_de_trains_annules                                          float64\n",
              "nombre_de_trains_en_retard_a_l_arrivee                            float64\n",
              "taux_de_regularite                                                float64\n",
              "nombre_de_trains_a_l_heure_pour_un_train_en_retard_a_l_arrivee    float64\n",
              "commentaires                                                       object\n",
              "dtype: object"
            ]
          },
          "execution_count": 4,
          "metadata": {},
          "output_type": "execute_result"
        }
      ],
      "source": [
        "#Type des variables\n",
        "df.dtypes # print pour observer "
      ]
    },
    {
      "attachments": {},
      "cell_type": "markdown",
      "metadata": {},
      "source": [
        "## 1.Gestion des typages de variables\n",
        "La première variable de la base : la date , est en format objet et donne le resultat comme suit YYYY-MM --Année et mois--. On l'a mettra au format datetime de pandas et créeront les variables année et mois pour des niveaux de désagrégation plus fins qui serviront aussi bien dans le traitement que dans l'analyse.\n"
      ]
    },
    {
      "cell_type": "code",
      "execution_count": 5,
      "metadata": {
        "colab": {
          "base_uri": "https://localhost:8080/"
        },
        "id": "iD10OK6YFAix",
        "outputId": "5dd7c93a-8f83-45b4-c1d9-abe6f4d15326"
      },
      "outputs": [
        {
          "data": {
            "text/plain": [
              "date                                                              datetime64[ns]\n",
              "region                                                                    string\n",
              "nombre_de_trains_programmes                                              float64\n",
              "nombre_de_trains_ayant_circule                                           float64\n",
              "nombre_de_trains_annules                                                 float64\n",
              "nombre_de_trains_en_retard_a_l_arrivee                                   float64\n",
              "taux_de_regularite                                                       float64\n",
              "nombre_de_trains_a_l_heure_pour_un_train_en_retard_a_l_arrivee           float64\n",
              "commentaires                                                              string\n",
              "annee                                                                      int64\n",
              "mois                                                                       int64\n",
              "dtype: object"
            ]
          },
          "execution_count": 5,
          "metadata": {},
          "output_type": "execute_result"
        }
      ],
      "source": [
        "#typage de la variables\n",
        "df['date']=pd.to_datetime(df['date'])  #date en format datetime\n",
        "df['region'] = df['region'].astype('string') #region en format string\n",
        "df['commentaires'] = df['commentaires'].astype('string') #commentaire en format string\n",
        "\n",
        "#creation des variables mois et année pour des utilisations futures \n",
        "df['annee'] = df['date'].dt.year \n",
        "df['mois'] = df['date'].dt.month \n",
        "\n",
        "#visualisation du resultat\n",
        "df.dtypes"
      ]
    },
    {
      "attachments": {},
      "cell_type": "markdown",
      "metadata": {},
      "source": [
        "## 2.Description des variables quantitatives\n",
        "\n",
        "la base contient en grande partie des variables quantitatives qu'il est important de décrire."
      ]
    },
    {
      "cell_type": "code",
      "execution_count": 6,
      "metadata": {
        "colab": {
          "base_uri": "https://localhost:8080/",
          "height": 364
        },
        "id": "p1L8LlyZe5Ra",
        "outputId": "f3a9f50d-01e5-4525-dc43-7fd8d33f0682"
      },
      "outputs": [
        {
          "name": "stdout",
          "output_type": "stream",
          "text": [
            "       nombre_de_trains_programmes  nombre_de_trains_ayant_circule  \\\n",
            "count                  1788.000000                     1788.000000   \n",
            "mean                  12292.477629                    12039.897651   \n",
            "std                    9015.810259                     8818.687906   \n",
            "min                    1129.000000                     1125.000000   \n",
            "25%                    5901.500000                     5825.750000   \n",
            "50%                    9474.000000                     9263.500000   \n",
            "75%                   14888.000000                    14406.500000   \n",
            "max                   46329.000000                    45569.000000   \n",
            "\n",
            "       nombre_de_trains_annules  nombre_de_trains_en_retard_a_l_arrivee  \\\n",
            "count               1788.000000                             1788.000000   \n",
            "mean                 258.276846                             1011.242729   \n",
            "std                  291.916890                              837.461109   \n",
            "min                    4.000000                               35.000000   \n",
            "25%                   83.000000                              421.000000   \n",
            "50%                  157.000000                              729.500000   \n",
            "75%                  333.000000                             1239.500000   \n",
            "max                 4024.000000                             4576.000000   \n",
            "\n",
            "       taux_de_regularite  \\\n",
            "count         1788.000000   \n",
            "mean            91.574464   \n",
            "std              3.420634   \n",
            "min             74.365711   \n",
            "25%             89.670614   \n",
            "50%             92.017786   \n",
            "75%             94.124250   \n",
            "max             98.026494   \n",
            "\n",
            "       nombre_de_trains_a_l_heure_pour_un_train_en_retard_a_l_arrivee  \\\n",
            "count                                        1788.000000                \n",
            "mean                                           13.044802                \n",
            "std                                             6.218286                \n",
            "min                                             2.901025                \n",
            "25%                                             8.681130                \n",
            "50%                                            11.527859                \n",
            "75%                                            16.019116                \n",
            "max                                            49.671233                \n",
            "\n",
            "             annee         mois  \n",
            "count  1825.000000  1825.000000  \n",
            "mean   2016.739726     6.466849  \n",
            "std       2.776524     3.436792  \n",
            "min    2013.000000     1.000000  \n",
            "25%    2014.000000     3.000000  \n",
            "50%    2016.000000     6.000000  \n",
            "75%    2019.000000     9.000000  \n",
            "max    2022.000000    12.000000  \n",
            "La distribution des données pour chaque variables est représentée par le boxplot suivant:\n"
          ]
        },
        {
          "data": {
            "text/plain": [
              "<AxesSubplot: >"
            ]
          },
          "execution_count": 6,
          "metadata": {},
          "output_type": "execute_result"
        },
        {
          "data": {
            "image/png": "[encoded data removed]",
            "text/plain": [
              "<Figure size 3000x1000 with 1 Axes>"
            ]
          },
          "metadata": {},
          "output_type": "display_data"
        }
      ],
      "source": [
        "#quelques statistiques sur les variables quantitatives\n",
        "print(df.describe())\n",
        "print(\"La distribution des données pour chaque variables est représentée par le boxplot suivant:\")\n",
        "df.plot.box(figsize=(30, 10))"
      ]
    },
    {
      "attachments": {},
      "cell_type": "markdown",
      "metadata": {},
      "source": [
        "## 3. Gestion des donnnées manquantes\n"
      ]
    },
    {
      "cell_type": "code",
      "execution_count": 7,
      "metadata": {
        "colab": {
          "base_uri": "https://localhost:8080/"
        },
        "id": "WlMPHqOyvaBR",
        "outputId": "d9294ee3-012e-4a71-8000-278195b0cead"
      },
      "outputs": [
        {
          "data": {
            "text/plain": [
              "date                                                                0\n",
              "region                                                              0\n",
              "nombre_de_trains_programmes                                        37\n",
              "nombre_de_trains_ayant_circule                                     37\n",
              "nombre_de_trains_annules                                           37\n",
              "nombre_de_trains_en_retard_a_l_arrivee                             37\n",
              "taux_de_regularite                                                 37\n",
              "nombre_de_trains_a_l_heure_pour_un_train_en_retard_a_l_arrivee     37\n",
              "commentaires                                                      899\n",
              "annee                                                               0\n",
              "mois                                                                0\n",
              "dtype: int64"
            ]
          },
          "execution_count": 7,
          "metadata": {},
          "output_type": "execute_result"
        }
      ],
      "source": [
        "#nombre de manquants/valeurs nulles par variables\n",
        "df.isnull().sum()"
      ]
    },
    {
      "cell_type": "code",
      "execution_count": 9,
      "metadata": {},
      "outputs": [
        {
          "name": "stdout",
          "output_type": "stream",
          "text": [
            "(37, 11)\n",
            "<StringArray>\n",
            "['Lorraine', 'Nord Pas de Calais']\n",
            "Length: 2, dtype: string\n",
            "<StringArray>\n",
            "[\"Le Président de la Région Lorraine s'est opposé, par courrier du 10 juillet 2013, à ce que SNCF transmette à l'AQST les données relatives aux trains TER lorrains en retard ou annulés, au motif qu'il n'a pas ''de visibilité sur les capacités des régions à poursuivre leurs missions d'autorité organisatrice des transports régionaux''.\", <NA>]\n",
            "Length: 2, dtype: string\n"
          ]
        }
      ],
      "source": [
        "#Identification des région avec le plus de valeur NAN\n",
        "df_na=df[df['nombre_de_trains_programmes'].isnull()==1]\n",
        "print(df_na.shape)\n",
        "print(df_na['region'].unique())\n",
        "# df_na.sort_values(by='date').head(37) #utiliser ce code pour visualiser la base des na\n",
        "print(df_na['commentaires'].unique())"
      ]
    },
    {
      "attachments": {},
      "cell_type": "markdown",
      "metadata": {},
      "source": [
        "le nombre de manquant dans la base corresponde tous à des valeurs pour les régions 'Lorraine' et 'Nord Pas de Calais'. La raison pour les manquants de loraines se trouves dans les commentaires. On remarque que l'indisponibilité des données données ter de la lorraine couvrent les 3 premières années de la base 2013,2014 et 2015. on décide de les supprimer de la base."
      ]
    },
    {
      "cell_type": "code",
      "execution_count": 10,
      "metadata": {},
      "outputs": [],
      "source": [
        "#suppression des lignes avec des valeurs manquantes\n",
        "df=df.dropna(subset=['nombre_de_trains_programmes'])"
      ]
    },
    {
      "attachments": {},
      "cell_type": "markdown",
      "metadata": {},
      "source": [
        "## 4.Gestion du problème de reforme des régions"
      ]
    },
    {
      "cell_type": "code",
      "execution_count": 11,
      "metadata": {
        "colab": {
          "base_uri": "https://localhost:8080/"
        },
        "id": "vi8QHwkS5Quw",
        "outputId": "be939e6d-8fee-4a2c-eab3-0f49aee704cc"
      },
      "outputs": [
        {
          "name": "stdout",
          "output_type": "stream",
          "text": [
            "28\n",
            "<StringArray>\n",
            "[      'Languedoc Roussillon',              'Midi Pyrénées',\n",
            " \"Provence Alpes Côte d'Azur\",                'Rhône Alpes',\n",
            "                     'Alsace',              'Franche Comté',\n",
            "            'Haute Normandie',                   'Auvergne',\n",
            "                     'Centre',          'Champagne Ardenne',\n",
            "            'Basse Normandie',                   'Limousin',\n",
            "         'Nord Pas de Calais',           'Poitou Charentes',\n",
            "           'Pays-de-la-Loire',                   'Picardie',\n",
            "                  'Aquitaine',                   'Bretagne',\n",
            "                  'Bourgogne',                   'Lorraine',\n",
            "                  'Grand Est',       'Auvergne-Rhône-Alpes',\n",
            "                  'Normandie',    'Bourgogne-Franche-Comté',\n",
            "            'Hauts-de-France',                  'Occitanie',\n",
            "         'Nouvelle Aquitaine',        'Centre Val-de-Loire']\n",
            "Length: 28, dtype: string\n",
            "le nombre d'année couvertent est bien : 10\n",
            "et les années couvertes sont les suivantes [2013 2014 2015 2016 2017 2018 2019 2020 2021 2022]\n"
          ]
        }
      ],
      "source": [
        "#Identification des régions présentes dans la base\n",
        "list_regions=df['region'].unique()  #list des régions sous forme numpy.ndarray\n",
        "print(len(list_regions))\n",
        "print(list_regions)\n",
        "#Nombre d'année couvert par la base\n",
        "list_annee=df['annee'].unique()  #list des années sous forme numpy.ndarray\n",
        "print(\"le nombre d'année couvertent est bien :\",len(list_annee))\n",
        "print(\"et les années couvertes sont les suivantes\",list_annee)"
      ]
    },
    {
      "attachments": {},
      "cell_type": "markdown",
      "metadata": {
        "id": "VNO0lyWTcWIS"
      },
      "source": [
        "On remarque qu'il ya 28 régions présentes tandis que la france compte actuellement et officiellement 13 régions(la Corse et l'ile de france n'étant pas couvert par cette base). Le problème se trouve au niveau de l'évolution du découpage administratif de 2013 à 2022. En effet, une reforme du découpage des régions a eu lieu en France lors de l'année 2014. Plusieurs régions ont été fusionnées si on peut le dire ainsi.\n"
      ]
    },
    {
      "cell_type": "code",
      "execution_count": 12,
      "metadata": {},
      "outputs": [
        {
          "name": "stdout",
          "output_type": "stream",
          "text": [
            "le nombre de région à l'année  2013  est  19\n",
            "le nombre de région à l'année  2014  est  19\n",
            "le nombre de région à l'année  2015  est  20\n",
            "le nombre de région à l'année  2016  est  20\n",
            "le nombre de région à l'année  2017  est  18\n",
            "le nombre de région à l'année  2018  est  12\n",
            "le nombre de région à l'année  2019  est  11\n",
            "le nombre de région à l'année  2020  est  13\n",
            "le nombre de région à l'année  2021  est  11\n",
            "le nombre de région à l'année  2022  est  11\n"
          ]
        }
      ],
      "source": [
        "def evo_region (i):\n",
        "    df_i=df[df['annee']==i]\n",
        "    return df_i\n",
        "list_annee=df['annee'].unique()\n",
        "for i in list_annee :\n",
        "    df_i=evo_region(i)\n",
        "    print(\"le nombre de région à l'année \",i,\" est \",len(df_i['region'].unique()))"
      ]
    },
    {
      "attachments": {},
      "cell_type": "markdown",
      "metadata": {},
      "source": [
        "le problème ici est que souvent les anciennes dénominations des régions coincident avec les nouvelles. On importera un fichier csv contenant en 2 colonnes : les anciennes régions et leur nouvelles dénominations, et on normalisera pour n'avoir que les nouvelles dénominations dans la base."
      ]
    },
    {
      "cell_type": "code",
      "execution_count": 13,
      "metadata": {},
      "outputs": [
        {
          "data": {
            "text/html": [
              "<div>\n",
              "<style scoped>\n",
              "    .dataframe tbody tr th:only-of-type {\n",
              "        vertical-align: middle;\n",
              "    }\n",
              "\n",
              "    .dataframe tbody tr th {\n",
              "        vertical-align: top;\n",
              "    }\n",
              "\n",
              "    .dataframe thead th {\n",
              "        text-align: right;\n",
              "    }\n",
              "</style>\n",
              "<table border=\"1\" class=\"dataframe\">\n",
              "  <thead>\n",
              "    <tr style=\"text-align: right;\">\n",
              "      <th></th>\n",
              "      <th>new_region</th>\n",
              "      <th>old_region</th>\n",
              "    </tr>\n",
              "  </thead>\n",
              "  <tbody>\n",
              "    <tr>\n",
              "      <th>0</th>\n",
              "      <td>Auvergne-Rhône-Alpes</td>\n",
              "      <td>Auvergne</td>\n",
              "    </tr>\n",
              "    <tr>\n",
              "      <th>1</th>\n",
              "      <td>Auvergne-Rhône-Alpes</td>\n",
              "      <td>Rhône Alpes</td>\n",
              "    </tr>\n",
              "    <tr>\n",
              "      <th>2</th>\n",
              "      <td>Bourgogne-Franche-Comté</td>\n",
              "      <td>Bourgogne</td>\n",
              "    </tr>\n",
              "    <tr>\n",
              "      <th>3</th>\n",
              "      <td>Bourgogne-Franche-Comté</td>\n",
              "      <td>Franche Comté</td>\n",
              "    </tr>\n",
              "    <tr>\n",
              "      <th>4</th>\n",
              "      <td>Bretagne</td>\n",
              "      <td>Bretagne</td>\n",
              "    </tr>\n",
              "    <tr>\n",
              "      <th>5</th>\n",
              "      <td>Centre</td>\n",
              "      <td>Centre Val-de-Loire</td>\n",
              "    </tr>\n",
              "    <tr>\n",
              "      <th>6</th>\n",
              "      <td>Grand Est</td>\n",
              "      <td>Alsace</td>\n",
              "    </tr>\n",
              "    <tr>\n",
              "      <th>7</th>\n",
              "      <td>Grand Est</td>\n",
              "      <td>Champagne Ardenne</td>\n",
              "    </tr>\n",
              "    <tr>\n",
              "      <th>8</th>\n",
              "      <td>Grand Est</td>\n",
              "      <td>Lorraine</td>\n",
              "    </tr>\n",
              "    <tr>\n",
              "      <th>9</th>\n",
              "      <td>Hauts-de-France</td>\n",
              "      <td>Nord Pas de Calais</td>\n",
              "    </tr>\n",
              "    <tr>\n",
              "      <th>10</th>\n",
              "      <td>Hauts-de-France</td>\n",
              "      <td>Picardie</td>\n",
              "    </tr>\n",
              "    <tr>\n",
              "      <th>11</th>\n",
              "      <td>Normandie</td>\n",
              "      <td>Basse Normandie</td>\n",
              "    </tr>\n",
              "    <tr>\n",
              "      <th>12</th>\n",
              "      <td>Normandie</td>\n",
              "      <td>Haute Normandie</td>\n",
              "    </tr>\n",
              "    <tr>\n",
              "      <th>13</th>\n",
              "      <td>Nouvelle Aquitaine</td>\n",
              "      <td>Aquitaine</td>\n",
              "    </tr>\n",
              "    <tr>\n",
              "      <th>14</th>\n",
              "      <td>Nouvelle Aquitaine</td>\n",
              "      <td>Limousin</td>\n",
              "    </tr>\n",
              "    <tr>\n",
              "      <th>15</th>\n",
              "      <td>Nouvelle Aquitaine</td>\n",
              "      <td>Poitou Charentes</td>\n",
              "    </tr>\n",
              "    <tr>\n",
              "      <th>16</th>\n",
              "      <td>Occitanie</td>\n",
              "      <td>Languedoc Roussillon</td>\n",
              "    </tr>\n",
              "    <tr>\n",
              "      <th>17</th>\n",
              "      <td>Occitanie</td>\n",
              "      <td>Midi Pyrénées</td>\n",
              "    </tr>\n",
              "    <tr>\n",
              "      <th>18</th>\n",
              "      <td>Pays de la Loire</td>\n",
              "      <td>Pays-de-la-Loire</td>\n",
              "    </tr>\n",
              "    <tr>\n",
              "      <th>19</th>\n",
              "      <td>Provence-Alpes-Côte d'Azur</td>\n",
              "      <td>Provence Alpes Côte d'Azur</td>\n",
              "    </tr>\n",
              "  </tbody>\n",
              "</table>\n",
              "</div>"
            ],
            "text/plain": [
              "                    new_region                  old_region\n",
              "0        Auvergne-Rhône-Alpes                     Auvergne\n",
              "1        Auvergne-Rhône-Alpes                  Rhône Alpes\n",
              "2     Bourgogne-Franche-Comté                    Bourgogne\n",
              "3     Bourgogne-Franche-Comté                Franche Comté\n",
              "4                     Bretagne                    Bretagne\n",
              "5                      Centre          Centre Val-de-Loire\n",
              "6                    Grand Est                      Alsace\n",
              "7                    Grand Est           Champagne Ardenne\n",
              "8                    Grand Est                    Lorraine\n",
              "9              Hauts-de-France          Nord Pas de Calais\n",
              "10             Hauts-de-France                    Picardie\n",
              "11                   Normandie             Basse Normandie\n",
              "12                   Normandie             Haute Normandie\n",
              "13         Nouvelle Aquitaine                    Aquitaine\n",
              "14         Nouvelle Aquitaine                     Limousin\n",
              "15         Nouvelle Aquitaine             Poitou Charentes\n",
              "16                   Occitanie        Languedoc Roussillon\n",
              "17                   Occitanie               Midi Pyrénées\n",
              "18            Pays de la Loire            Pays-de-la-Loire\n",
              "19  Provence-Alpes-Côte d'Azur  Provence Alpes Côte d'Azur"
            ]
          },
          "execution_count": 13,
          "metadata": {},
          "output_type": "execute_result"
        }
      ],
      "source": [
        "#gestion du problème de nom de région\n",
        "rg=pd.read_csv('Jeux de données/regions.csv',sep=\";\")\n",
        "rg"
      ]
    },
    {
      "cell_type": "code",
      "execution_count": 14,
      "metadata": {},
      "outputs": [
        {
          "name": "stdout",
          "output_type": "stream",
          "text": [
            "['Auvergne', 'Rhône Alpes', 'Bourgogne', 'Franche Comté', 'Bretagne', 'Centre Val-de-Loire', 'Alsace', 'Champagne Ardenne', 'Lorraine', 'Nord Pas de Calais', 'Picardie', 'Basse Normandie', 'Haute Normandie', 'Aquitaine', 'Limousin', 'Poitou Charentes', 'Languedoc Roussillon', 'Midi Pyrénées', 'Pays-de-la-Loire', \"Provence Alpes Côte d'Azur\"]\n",
            "['Auvergne-Rhône-Alpes ', 'Bourgogne-Franche-Comté ', 'Bretagne', 'Centre ', 'Grand Est', 'Hauts-de-France', 'Normandie', 'Nouvelle Aquitaine ', 'Occitanie', 'Pays de la Loire', \"Provence-Alpes-Côte d'Azur\"]\n",
            "<StringArray>\n",
            "[      'Languedoc Roussillon',              'Midi Pyrénées',\n",
            " \"Provence Alpes Côte d'Azur\",                'Rhône Alpes',\n",
            "                     'Alsace',              'Franche Comté',\n",
            "            'Haute Normandie',                   'Auvergne',\n",
            "                     'Centre',          'Champagne Ardenne',\n",
            "            'Basse Normandie',                   'Limousin',\n",
            "         'Nord Pas de Calais',           'Poitou Charentes',\n",
            "           'Pays-de-la-Loire',                   'Picardie',\n",
            "                  'Aquitaine',                   'Bretagne',\n",
            "                  'Bourgogne',                   'Lorraine',\n",
            "                  'Grand Est',       'Auvergne-Rhône-Alpes',\n",
            "                  'Normandie',    'Bourgogne-Franche-Comté',\n",
            "            'Hauts-de-France',                  'Occitanie',\n",
            "         'Nouvelle Aquitaine',        'Centre Val-de-Loire']\n",
            "Length: 28, dtype: string\n"
          ]
        }
      ],
      "source": [
        "#vérification de la validité de la correspondance (clé de jointure) avant jointure des deux bases\n",
        "old_region=list(rg['old_region'].unique())\n",
        "new_region=list(rg['new_region'].unique())\n",
        "print(old_region)\n",
        "print(new_region)\n",
        "print(list_regions)"
      ]
    },
    {
      "cell_type": "code",
      "execution_count": 15,
      "metadata": {},
      "outputs": [],
      "source": [
        "# les valeurs dans la base importée comprendre des espaces avant et à la fin des noms des régions que l'on supprimera\n",
        "def stripper(a) :\n",
        "    a=a.strip()\n",
        "    return a\n",
        "\n",
        "rg['old_region']=rg['old_region'].apply(stripper)\n",
        "rg['new_region']=rg['new_region'].apply(stripper)\n"
      ]
    },
    {
      "attachments": {},
      "cell_type": "markdown",
      "metadata": {},
      "source": [
        "il devrait y avoir normalement 11 régions (12 en excluant la région d'ile de France non pris en compte pour les TER) à partir de l'annnée 2015.\n",
        "Pour l'année 2020, par exemple on a 13 régions en regardant de plus près, on remarque que pour la même année 2 régions qui avaient été fuusionnés lors de la reforme réapparaissent comme quoi pour certains mois on avait des données pour toutes les régions appartenant à la fusion et certains autre que pour 1 seule région. \n",
        "\n",
        "Par exemple en 2020 on a 13 régions au lieu de 11 ; les deux en plus sont Aquitaines inclue normalent dans Nouvelle-Aquitaines(Aquitaine+Limousin+Poitou-charentes) et centre incluant normalement dans Centre-Val de Loire(changement de nom uniquement).\n",
        "On va importer un fichier csv contenant les anciennes et nouvelles régions  et faire une jointure suivie d'un group by + sum"
      ]
    },
    {
      "cell_type": "code",
      "execution_count": 16,
      "metadata": {},
      "outputs": [
        {
          "name": "stdout",
          "output_type": "stream",
          "text": [
            "Languedoc Roussillon ok\n",
            "Midi Pyrénées ok\n",
            "Provence Alpes Côte d'Azur ok\n",
            "Rhône Alpes ok\n",
            "Alsace ok\n",
            "Franche Comté ok\n",
            "Haute Normandie ok\n",
            "Auvergne ok\n",
            "Champagne Ardenne ok\n",
            "Basse Normandie ok\n",
            "Limousin ok\n",
            "Nord Pas de Calais ok\n",
            "Poitou Charentes ok\n",
            "Pays-de-la-Loire ok\n",
            "Picardie ok\n",
            "Aquitaine ok\n",
            "Bretagne ok\n",
            "Bourgogne ok\n",
            "Lorraine ok\n",
            "Centre Val-de-Loire ok\n"
          ]
        }
      ],
      "source": [
        "#vérification du matching entre la manière d'écrire les région\n",
        "for j in range(len(list_regions)) :  \n",
        "    for i in range(len(old_region)) :\n",
        "        old_region[i]=old_region[i].strip()\n",
        "        \n",
        "        if old_region[i] == list_regions[j] :\n",
        "            print(old_region[i],'ok')\n",
        "        "
      ]
    },
    {
      "cell_type": "code",
      "execution_count": 17,
      "metadata": {},
      "outputs": [
        {
          "data": {
            "text/html": [
              "<div>\n",
              "<style scoped>\n",
              "    .dataframe tbody tr th:only-of-type {\n",
              "        vertical-align: middle;\n",
              "    }\n",
              "\n",
              "    .dataframe tbody tr th {\n",
              "        vertical-align: top;\n",
              "    }\n",
              "\n",
              "    .dataframe thead th {\n",
              "        text-align: right;\n",
              "    }\n",
              "</style>\n",
              "<table border=\"1\" class=\"dataframe\">\n",
              "  <thead>\n",
              "    <tr style=\"text-align: right;\">\n",
              "      <th></th>\n",
              "      <th>date</th>\n",
              "      <th>region</th>\n",
              "      <th>nombre_de_trains_programmes</th>\n",
              "      <th>nombre_de_trains_ayant_circule</th>\n",
              "      <th>nombre_de_trains_annules</th>\n",
              "      <th>nombre_de_trains_en_retard_a_l_arrivee</th>\n",
              "      <th>taux_de_regularite</th>\n",
              "      <th>nombre_de_trains_a_l_heure_pour_un_train_en_retard_a_l_arrivee</th>\n",
              "      <th>commentaires</th>\n",
              "      <th>annee</th>\n",
              "      <th>mois</th>\n",
              "      <th>new_region</th>\n",
              "      <th>old_region</th>\n",
              "    </tr>\n",
              "  </thead>\n",
              "  <tbody>\n",
              "    <tr>\n",
              "      <th>0</th>\n",
              "      <td>2013-01-01</td>\n",
              "      <td>Languedoc Roussillon</td>\n",
              "      <td>5024.0</td>\n",
              "      <td>4897.0</td>\n",
              "      <td>127.0</td>\n",
              "      <td>377.0</td>\n",
              "      <td>92.301409</td>\n",
              "      <td>11.989390</td>\n",
              "      <td>Chute de neige sur le littoral.</td>\n",
              "      <td>2013</td>\n",
              "      <td>1</td>\n",
              "      <td>Occitanie</td>\n",
              "      <td>Languedoc Roussillon</td>\n",
              "    </tr>\n",
              "    <tr>\n",
              "      <th>1</th>\n",
              "      <td>2013-01-01</td>\n",
              "      <td>Midi Pyrénées</td>\n",
              "      <td>8208.0</td>\n",
              "      <td>7941.0</td>\n",
              "      <td>267.0</td>\n",
              "      <td>903.0</td>\n",
              "      <td>88.628636</td>\n",
              "      <td>7.794020</td>\n",
              "      <td>&lt;NA&gt;</td>\n",
              "      <td>2013</td>\n",
              "      <td>1</td>\n",
              "      <td>Occitanie</td>\n",
              "      <td>Midi Pyrénées</td>\n",
              "    </tr>\n",
              "    <tr>\n",
              "      <th>2</th>\n",
              "      <td>2013-01-01</td>\n",
              "      <td>Provence Alpes Côte d'Azur</td>\n",
              "      <td>13956.0</td>\n",
              "      <td>13219.0</td>\n",
              "      <td>737.0</td>\n",
              "      <td>1816.0</td>\n",
              "      <td>86.262198</td>\n",
              "      <td>6.279185</td>\n",
              "      <td>&lt;NA&gt;</td>\n",
              "      <td>2013</td>\n",
              "      <td>1</td>\n",
              "      <td>Provence-Alpes-Côte d'Azur</td>\n",
              "      <td>Provence Alpes Côte d'Azur</td>\n",
              "    </tr>\n",
              "  </tbody>\n",
              "</table>\n",
              "</div>"
            ],
            "text/plain": [
              "        date                      region  nombre_de_trains_programmes  \\\n",
              "0 2013-01-01        Languedoc Roussillon                       5024.0   \n",
              "1 2013-01-01               Midi Pyrénées                       8208.0   \n",
              "2 2013-01-01  Provence Alpes Côte d'Azur                      13956.0   \n",
              "\n",
              "   nombre_de_trains_ayant_circule  nombre_de_trains_annules  \\\n",
              "0                          4897.0                     127.0   \n",
              "1                          7941.0                     267.0   \n",
              "2                         13219.0                     737.0   \n",
              "\n",
              "   nombre_de_trains_en_retard_a_l_arrivee  taux_de_regularite  \\\n",
              "0                                   377.0           92.301409   \n",
              "1                                   903.0           88.628636   \n",
              "2                                  1816.0           86.262198   \n",
              "\n",
              "   nombre_de_trains_a_l_heure_pour_un_train_en_retard_a_l_arrivee  \\\n",
              "0                                          11.989390                \n",
              "1                                           7.794020                \n",
              "2                                           6.279185                \n",
              "\n",
              "                      commentaires  annee  mois                  new_region  \\\n",
              "0  Chute de neige sur le littoral.   2013     1                   Occitanie   \n",
              "1                             <NA>   2013     1                   Occitanie   \n",
              "2                             <NA>   2013     1  Provence-Alpes-Côte d'Azur   \n",
              "\n",
              "                   old_region  \n",
              "0        Languedoc Roussillon  \n",
              "1               Midi Pyrénées  \n",
              "2  Provence Alpes Côte d'Azur  "
            ]
          },
          "execution_count": 17,
          "metadata": {},
          "output_type": "execute_result"
        }
      ],
      "source": [
        "#fusion des bases \n",
        "df['region'].str.replace(' ', '')\n",
        "rg['old_region'].str.replace(' ', '')\n",
        "df_new=pd.merge(left=df,right=rg, how='left', left_on='region',right_on='old_region')\n",
        "df_new.head(3)\n"
      ]
    },
    {
      "cell_type": "code",
      "execution_count": 18,
      "metadata": {},
      "outputs": [
        {
          "name": "stdout",
          "output_type": "stream",
          "text": [
            "12\n",
            "11\n"
          ]
        }
      ],
      "source": [
        "#gestion des noms des regions pour les observations avec déjà la même dénomination avant et après la reforme\n",
        "print(len(df_new['new_region'].unique())) #on remarque que les observations avec le bon nom des régions ont pris NaN comme valeur de new_region d'où la valeur 12 en résultat de ce code\n",
        "\n",
        "a=df_new[df_new['new_region'].isnull()==1] #on utilise une astuce pour regler le problème surtout que la base n'est pas volumineuse\n",
        "a['new_region']=a['region']\n",
        "b=df_new[df_new['new_region'].isnull()==0]\n",
        "\n",
        "df_int=pd.concat([a, b]) #df_int est la base intermédiaire où on a reglé le problème de dénomination des régions\n",
        "print(len(df_int['new_region'].unique())) #on otient les 11 régions donc plus de  NaN \n",
        "\n",
        "#verification de la base intermediaire\n",
        "#df_int.sort_values(by='new_region')"
      ]
    },
    {
      "attachments": {},
      "cell_type": "markdown",
      "metadata": {},
      "source": [
        "# 5.obtention de la base finale\n",
        "problème du nom des régions étant réglé, il reste à grouper les données par nouvelles régions (les 11)."
      ]
    },
    {
      "cell_type": "code",
      "execution_count": 19,
      "metadata": {},
      "outputs": [],
      "source": [
        "df_final=df_int.groupby(['new_region','date'],as_index=False)\n",
        "df_final=df_final.sum()\n",
        "#df_final.head(5) #inspection dde la base obtenue"
      ]
    },
    {
      "cell_type": "code",
      "execution_count": 20,
      "metadata": {},
      "outputs": [],
      "source": [
        "#recalcul du taux de régularité basé sur les 11 régions de 2013 à 2022\n",
        "df_final['taux_de_regularite']=100*(df_final['nombre_de_trains_ayant_circule']-df_final['nombre_de_trains_en_retard_a_l_arrivee'])/df_final['nombre_de_trains_ayant_circule']\n",
        "df_final['nombre_de_trains_a_l_heure_pour_un_train_en_retard_a_l_arrivee']=(df_final['nombre_de_trains_ayant_circule']-df_final['nombre_de_trains_en_retard_a_l_arrivee'])/df_final['nombre_de_trains_en_retard_a_l_arrivee']\n",
        "#restructuration des deux dernière colonnes\n",
        "df_final['annee'] = df_final['date'].dt.year \n",
        "df_final['mois'] = df_final['date'].dt.month\n",
        "#df_final.head(8) #inspection du\n"
      ]
    },
    {
      "cell_type": "code",
      "execution_count": 21,
      "metadata": {},
      "outputs": [
        {
          "data": {
            "text/html": [
              "<div>\n",
              "<style scoped>\n",
              "    .dataframe tbody tr th:only-of-type {\n",
              "        vertical-align: middle;\n",
              "    }\n",
              "\n",
              "    .dataframe tbody tr th {\n",
              "        vertical-align: top;\n",
              "    }\n",
              "\n",
              "    .dataframe thead th {\n",
              "        text-align: right;\n",
              "    }\n",
              "</style>\n",
              "<table border=\"1\" class=\"dataframe\">\n",
              "  <thead>\n",
              "    <tr style=\"text-align: right;\">\n",
              "      <th></th>\n",
              "      <th>date</th>\n",
              "      <th>nombre_de_trains_programmes</th>\n",
              "      <th>nombre_de_trains_ayant_circule</th>\n",
              "      <th>nombre_de_trains_annules</th>\n",
              "      <th>nombre_de_trains_en_retard_a_l_arrivee</th>\n",
              "      <th>taux_de_regularite</th>\n",
              "      <th>nombre_de_trains_a_l_heure_pour_un_train_en_retard_a_l_arrivee</th>\n",
              "      <th>annee</th>\n",
              "      <th>mois</th>\n",
              "    </tr>\n",
              "  </thead>\n",
              "  <tbody>\n",
              "    <tr>\n",
              "      <th>0</th>\n",
              "      <td>2013-01-01</td>\n",
              "      <td>189899.0</td>\n",
              "      <td>186282.0</td>\n",
              "      <td>3617.0</td>\n",
              "      <td>17089.0</td>\n",
              "      <td>90.826274</td>\n",
              "      <td>9.900696</td>\n",
              "      <td>2013</td>\n",
              "      <td>1</td>\n",
              "    </tr>\n",
              "    <tr>\n",
              "      <th>1</th>\n",
              "      <td>2013-02-01</td>\n",
              "      <td>171409.0</td>\n",
              "      <td>168932.0</td>\n",
              "      <td>2477.0</td>\n",
              "      <td>14561.0</td>\n",
              "      <td>91.380555</td>\n",
              "      <td>10.601676</td>\n",
              "      <td>2013</td>\n",
              "      <td>2</td>\n",
              "    </tr>\n",
              "    <tr>\n",
              "      <th>2</th>\n",
              "      <td>2013-03-01</td>\n",
              "      <td>182332.0</td>\n",
              "      <td>176546.0</td>\n",
              "      <td>5786.0</td>\n",
              "      <td>15731.0</td>\n",
              "      <td>91.089574</td>\n",
              "      <td>10.222808</td>\n",
              "      <td>2013</td>\n",
              "      <td>3</td>\n",
              "    </tr>\n",
              "    <tr>\n",
              "      <th>3</th>\n",
              "      <td>2013-04-01</td>\n",
              "      <td>177483.0</td>\n",
              "      <td>174054.0</td>\n",
              "      <td>3429.0</td>\n",
              "      <td>13176.0</td>\n",
              "      <td>92.429936</td>\n",
              "      <td>12.209927</td>\n",
              "      <td>2013</td>\n",
              "      <td>4</td>\n",
              "    </tr>\n",
              "    <tr>\n",
              "      <th>4</th>\n",
              "      <td>2013-05-01</td>\n",
              "      <td>177082.0</td>\n",
              "      <td>174735.0</td>\n",
              "      <td>2347.0</td>\n",
              "      <td>12478.0</td>\n",
              "      <td>92.858901</td>\n",
              "      <td>13.003446</td>\n",
              "      <td>2013</td>\n",
              "      <td>5</td>\n",
              "    </tr>\n",
              "  </tbody>\n",
              "</table>\n",
              "</div>"
            ],
            "text/plain": [
              "        date  nombre_de_trains_programmes  nombre_de_trains_ayant_circule  \\\n",
              "0 2013-01-01                     189899.0                        186282.0   \n",
              "1 2013-02-01                     171409.0                        168932.0   \n",
              "2 2013-03-01                     182332.0                        176546.0   \n",
              "3 2013-04-01                     177483.0                        174054.0   \n",
              "4 2013-05-01                     177082.0                        174735.0   \n",
              "\n",
              "   nombre_de_trains_annules  nombre_de_trains_en_retard_a_l_arrivee  \\\n",
              "0                    3617.0                                 17089.0   \n",
              "1                    2477.0                                 14561.0   \n",
              "2                    5786.0                                 15731.0   \n",
              "3                    3429.0                                 13176.0   \n",
              "4                    2347.0                                 12478.0   \n",
              "\n",
              "   taux_de_regularite  \\\n",
              "0           90.826274   \n",
              "1           91.380555   \n",
              "2           91.089574   \n",
              "3           92.429936   \n",
              "4           92.858901   \n",
              "\n",
              "   nombre_de_trains_a_l_heure_pour_un_train_en_retard_a_l_arrivee  annee  mois  \n",
              "0                                           9.900696                2013     1  \n",
              "1                                          10.601676                2013     2  \n",
              "2                                          10.222808                2013     3  \n",
              "3                                          12.209927                2013     4  \n",
              "4                                          13.003446                2013     5  "
            ]
          },
          "execution_count": 21,
          "metadata": {},
          "output_type": "execute_result"
        }
      ],
      "source": [
        "#agregation au niveau de toute la France (hors ile de France et Corse)\n",
        "df_final_france=df_new.groupby(['date'],as_index=False)\n",
        "df_final_france=df_final_france.sum()\n",
        "#recalcul du taux de régularité basé sur les 11 régions de 2013 à 2022\n",
        "df_final_france['taux_de_regularite']=100*(df_final_france['nombre_de_trains_ayant_circule']-df_final_france['nombre_de_trains_en_retard_a_l_arrivee'])/df_final_france['nombre_de_trains_ayant_circule']\n",
        "df_final_france['nombre_de_trains_a_l_heure_pour_un_train_en_retard_a_l_arrivee']=(df_final_france['nombre_de_trains_ayant_circule']-df_final_france['nombre_de_trains_en_retard_a_l_arrivee'])/df_final_france['nombre_de_trains_en_retard_a_l_arrivee']\n",
        "#restructuration des deux dernière colonnes\n",
        "df_final_france['annee'] = df_final_france['date'].dt.year \n",
        "df_final_france['mois'] = df_final_france['date'].dt.month\n",
        "df_final_france.head(5) #inspection de la base\n"
      ]
    },
    {
      "attachments": {},
      "cell_type": "markdown",
      "metadata": {},
      "source": [
        "### Traitement enfin terminé &#x1F600; on peut commencer les analyses"
      ]
    },
    {
      "cell_type": "code",
      "execution_count": 22,
      "metadata": {},
      "outputs": [],
      "source": [
        "#exportation des bases finales obtenus au format csv\n",
        "df_final_france.to_csv('base_regularité_france.csv') #sauvegarde en csv de la base finale \n",
        "df_final.to_csv('base_regularité_region.csv') # sauvegarde en csv de la base finale TER"
      ]
    }
  ],
  "metadata": {
    "colab": {
      "provenance": []
    },
    "kernelspec": {
      "display_name": "Python 3",
      "language": "python",
      "name": "python3"
    },
    "language_info": {
      "codemirror_mode": {
        "name": "ipython",
        "version": 3
      },
      "file_extension": ".py",
      "mimetype": "text/x-python",
      "name": "python",
      "nbconvert_exporter": "python",
      "pygments_lexer": "ipython3",
      "version": "3.10.9"
    },
    "vscode": {
      "interpreter": {
        "hash": "c92bf64cd2e91b8d8e093d97f3375494d073e69df3affcb6643d8feffe8d8320"
      }
    }
  },
  "nbformat": 4,
  "nbformat_minor": 0
}
