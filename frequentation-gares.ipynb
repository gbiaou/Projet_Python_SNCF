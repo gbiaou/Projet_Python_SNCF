{
 "cells": [
  {
   "attachments": {},
   "cell_type": "markdown",
   "metadata": {},
   "source": [
    "## Focus sur la fréquentation des stations voyageurs"
   ]
  },
  {
   "attachments": {},
   "cell_type": "markdown",
   "metadata": {},
   "source": [
    "Ce jeu de données (`Fréquentation en gares`) représente la fréquentation annuelle de l'ensemble des 3000 gares voyageurs de 2015 à 2021.\n",
    "\n",
    "Ces informations sont issues d’une part, des données de billetterie pour le trafic national et régional hors Ile-de-France et d’autre part, d’une extrapolation pour le trafic régional Ile-de-France à partir des comptages effectués tous les 3 à 4 ans et publiés par ailleurs en Open Data.\n",
    "\n",
    "A noter, pour les années 2020 et 2021 peu de comptages ont été réalisés pour le trafic régional Ile-de-France en raison de la crise sanitaire. La fréquentation a été calculée en relatif par rapport aux évolutions des validations en gare observées depuis 2019.\n",
    "\n",
    "\n",
    "Une estimation de la proportion de non voyageurs est réalisée à partir des enquêtes en gare. En l'absence d’enquête, un taux par défaut est défini (20% pour les gares a et b hors Ile-de-France et 0% pour les gares b Ile-de-France et c).\n",
    "\n",
    "\n",
    "La méthodologie de calcul se précise année après année avec une reprise de l'historique pouvant expliquer des variations dans les données publiées d'une année sur l'autre. Pour toute question, vous pouvez nous l'adresser au travers du formulaire de contact du portail Open Data.\n",
    "\n",
    "***Informations du site open data de la [SNCF](https://ressources.data.sncf.com/explore/dataset/frequentation-gares/information/?disjunctive.nom_gare&disjunctive.code_postal&sort=nom_gare)***"
   ]
  },
  {
   "attachments": {},
   "cell_type": "markdown",
   "metadata": {},
   "source": [
    "### Récupération des données de fréquentation des gares"
   ]
  },
  {
   "cell_type": "code",
   "execution_count": 2,
   "metadata": {},
   "outputs": [],
   "source": [
    "import geopandas as gpd\n",
    "import pandas as pd\n",
    "import contextily as ctx\n",
    "import matplotlib.pyplot as plt\n",
    "import cartiflette.s3"
   ]
  },
  {
   "cell_type": "code",
   "execution_count": 1,
   "metadata": {},
   "outputs": [
    {
     "ename": "NameError",
     "evalue": "name 'rq' is not defined",
     "output_type": "error",
     "traceback": [
      "\u001b[1;31m---------------------------------------------------------------------------\u001b[0m",
      "\u001b[1;31mNameError\u001b[0m                                 Traceback (most recent call last)",
      "\u001b[1;32m~\\AppData\\Local\\Temp\\ipykernel_36488\\4132465682.py\u001b[0m in \u001b[0;36m<module>\u001b[1;34m\u001b[0m\n\u001b[0;32m      1\u001b[0m \u001b[0murl_freq\u001b[0m \u001b[1;33m=\u001b[0m \u001b[1;34m\"https://ressources.data.sncf.com/api/v2/catalog/datasets/frequentation-gares/exports\"\u001b[0m \u001b[1;33m+\u001b[0m \u001b[1;34m\"/json?limit=-1\"\u001b[0m \u001b[1;33m+\u001b[0m \u001b[1;34m\"&offset=0\"\u001b[0m \u001b[1;33m+\u001b[0m \u001b[1;34m\"&lang=fr\"\u001b[0m \u001b[1;33m+\u001b[0m \u001b[1;34m\"&timezone=Europe%2FParis\"\u001b[0m \u001b[1;31m# url de l'API pour acccéder aux données\u001b[0m\u001b[1;33m\u001b[0m\u001b[1;33m\u001b[0m\u001b[0m\n\u001b[1;32m----> 2\u001b[1;33m \u001b[0mdataFreq\u001b[0m \u001b[1;33m=\u001b[0m \u001b[0mrq\u001b[0m\u001b[1;33m.\u001b[0m\u001b[0mget\u001b[0m\u001b[1;33m(\u001b[0m\u001b[0murl_freq\u001b[0m\u001b[1;33m)\u001b[0m\u001b[1;33m\u001b[0m\u001b[1;33m\u001b[0m\u001b[0m\n\u001b[0m\u001b[0;32m      3\u001b[0m \u001b[0mdataFreq\u001b[0m \u001b[1;33m=\u001b[0m \u001b[0mdataFreq\u001b[0m\u001b[1;33m.\u001b[0m\u001b[0mjson\u001b[0m\u001b[1;33m(\u001b[0m\u001b[1;33m)\u001b[0m\u001b[1;33m\u001b[0m\u001b[1;33m\u001b[0m\u001b[0m\n\u001b[0;32m      4\u001b[0m \u001b[0mdataFreq\u001b[0m \u001b[1;33m=\u001b[0m \u001b[0mpd\u001b[0m\u001b[1;33m.\u001b[0m\u001b[0mjson_normalize\u001b[0m\u001b[1;33m(\u001b[0m\u001b[0mdataFreq\u001b[0m\u001b[1;33m)\u001b[0m\u001b[1;33m\u001b[0m\u001b[1;33m\u001b[0m\u001b[0m\n",
      "\u001b[1;31mNameError\u001b[0m: name 'rq' is not defined"
     ]
    }
   ],
   "source": [
    "url_freq = \"https://ressources.data.sncf.com/api/v2/catalog/datasets/frequentation-gares/exports\" + \"/json?limit=-1\" + \"&offset=0\" + \"&lang=fr\" + \"&timezone=Europe%2FParis\" # url de l'API pour acccéder aux données\n",
    "dataFreq = rq.get(url_freq)\n",
    "dataFreq = dataFreq.json() \n",
    "dataFreq = pd.json_normalize(dataFreq)"
   ]
  },
  {
   "cell_type": "code",
   "execution_count": null,
   "metadata": {},
   "outputs": [],
   "source": [
    "dataFreq.shape\n",
    "dataFreq.head()\n",
    "dataFreq.tail()"
   ]
  },
  {
   "attachments": {},
   "cell_type": "markdown",
   "metadata": {},
   "source": [
    "Comme on peut le voir, les totaux du nombre de voyageurs et du nombre de \"**non-voyageurs**\" sont fournis de 2015 à 2022, soit sur les sept(07) dernière années.\n",
    "\n",
    "Dans le jeu de données , \n",
    "* **total_voyageurs** représsente le nombre total de voyageurs\n",
    "* **total_voyageurs_non_voyageurs** représente le nombre total de voyageurs, "
   ]
  }
 ],
 "metadata": {
  "kernelspec": {
   "display_name": "base",
   "language": "python",
   "name": "python3"
  },
  "language_info": {
   "codemirror_mode": {
    "name": "ipython",
    "version": 3
   },
   "file_extension": ".py",
   "mimetype": "text/x-python",
   "name": "python",
   "nbconvert_exporter": "python",
   "pygments_lexer": "ipython3",
   "version": "3.9.13 (main, Aug 25 2022, 23:51:50) [MSC v.1916 64 bit (AMD64)]"
  },
  "orig_nbformat": 4,
  "vscode": {
   "interpreter": {
    "hash": "b13ddcb2f2200257ec4158bbf16a76e12c9079efe489fbdfe507a10cb4bcbf15"
   }
  }
 },
 "nbformat": 4,
 "nbformat_minor": 2
}
